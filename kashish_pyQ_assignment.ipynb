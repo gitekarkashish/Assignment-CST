{
  "nbformat": 4,
  "nbformat_minor": 0,
  "metadata": {
    "colab": {
      "provenance": [],
      "authorship_tag": "ABX9TyNSFi82LhRMP47XfBISGg4T",
      "include_colab_link": true
    },
    "kernelspec": {
      "name": "python3",
      "display_name": "Python 3"
    },
    "language_info": {
      "name": "python"
    }
  },
  "cells": [
    {
      "cell_type": "markdown",
      "metadata": {
        "id": "view-in-github",
        "colab_type": "text"
      },
      "source": [
        "<a href=\"https://colab.research.google.com/github/gitekarkashish/Assignment-CST/blob/main/kashish_pyQ_assignment.ipynb\" target=\"_parent\"><img src=\"https://colab.research.google.com/assets/colab-badge.svg\" alt=\"Open In Colab\"/></a>"
      ]
    },
    {
      "cell_type": "markdown",
      "source": [],
      "metadata": {
        "id": "rcVXRl_mgskH"
      }
    },
    {
      "cell_type": "markdown",
      "source": [
        "1.\tWrite a Python program to calculate the area of a circle given its radius."
      ],
      "metadata": {
        "id": "wsDnZ7najxKP"
      }
    },
    {
      "cell_type": "code",
      "source": [
        "r=2\n",
        "area=(3.14*r*r)\n",
        "print(area)\n"
      ],
      "metadata": {
        "colab": {
          "base_uri": "https://localhost:8080/"
        },
        "id": "WyAhwQLrj-AF",
        "outputId": "c3439715-e2ca-4280-9e51-abf2e778c122"
      },
      "execution_count": null,
      "outputs": [
        {
          "output_type": "stream",
          "name": "stdout",
          "text": [
            "12.56\n"
          ]
        }
      ]
    },
    {
      "cell_type": "markdown",
      "source": [
        "2.\tCreate a program that takes user input for a temperature in Celsius and converts it to Fahrenheit."
      ],
      "metadata": {
        "id": "KFRxMjJhlJjj"
      }
    },
    {
      "cell_type": "code",
      "source": [
        "celsius = float(input(\"Enter temperature in Celsius: \"))\n",
        "fahrenheit = (celsius * 9/5) + 32\n",
        "print(f\"{celsius} degrees Celsius is equal to {fahrenheit} degrees Fahrenheit\")"
      ],
      "metadata": {
        "colab": {
          "base_uri": "https://localhost:8080/"
        },
        "id": "xenNCt8amHBV",
        "outputId": "a512a84b-efe5-4966-e032-a8f8c3b6fec7"
      },
      "execution_count": null,
      "outputs": [
        {
          "output_type": "stream",
          "name": "stdout",
          "text": [
            "Enter temperature in Celsius: 45.5\n",
            "45.5 degrees Celsius is equal to 113.9 degrees Fahrenheit\n"
          ]
        }
      ]
    },
    {
      "cell_type": "markdown",
      "source": [
        "3.\tImplement a calculator that performs basic arithmetic operations (addition, subtraction, multiplication, division) based on user input."
      ],
      "metadata": {
        "id": "xW-7I9JBmkZo"
      }
    },
    {
      "cell_type": "code",
      "source": [
        "a=int(input(\"enter the number of a\"))\n",
        "b=int(input(\"enter the number of b\"))\n",
        "print(\"addtion\",a+b)\n",
        "print(\"subract\",a-b)\n",
        "print(\"multiply\",a*b)\n",
        "print(\"division\" ,a/b)"
      ],
      "metadata": {
        "colab": {
          "base_uri": "https://localhost:8080/"
        },
        "id": "wW05H9DGnyM1",
        "outputId": "d003c910-6649-4aab-e461-96d33c49afce"
      },
      "execution_count": null,
      "outputs": [
        {
          "output_type": "stream",
          "name": "stdout",
          "text": [
            "enter the number of a5\n",
            "enter the number of b8\n",
            "addtion 13\n",
            "subract -3\n",
            "multiply 40\n",
            "division 0.625\n"
          ]
        }
      ]
    },
    {
      "cell_type": "markdown",
      "source": [
        "4.\tWrite a program that checks if a number is even or odd."
      ],
      "metadata": {
        "id": "znVN147spdrL"
      }
    },
    {
      "cell_type": "code",
      "source": [
        "a=int(input(\"enter the number\"))\n",
        "if a%2==0:\n",
        "  print(\"it has even no\")\n",
        "else:\n",
        "  print(\" it has odd no\")"
      ],
      "metadata": {
        "colab": {
          "base_uri": "https://localhost:8080/"
        },
        "id": "j1GpUllYqWdl",
        "outputId": "d1fc0e60-1e09-49de-a212-3fc84f578c38"
      },
      "execution_count": null,
      "outputs": [
        {
          "output_type": "stream",
          "name": "stdout",
          "text": [
            "enter the number84\n",
            "it has even no\n"
          ]
        }
      ]
    },
    {
      "cell_type": "markdown",
      "source": [
        "5.\tDevelop a function that takes a string as input and returns the string reversed."
      ],
      "metadata": {
        "id": "y9o1TfGorPzo"
      }
    },
    {
      "cell_type": "code",
      "source": [
        "a=\"hello world\"\n",
        "rev=''.join(reversed(a))\n",
        "print(rev)"
      ],
      "metadata": {
        "colab": {
          "base_uri": "https://localhost:8080/"
        },
        "id": "iQWTUuIRrSZn",
        "outputId": "d4c64520-e0b9-4aab-997a-ced94ed32145"
      },
      "execution_count": null,
      "outputs": [
        {
          "output_type": "stream",
          "name": "stdout",
          "text": [
            "dlrow olleh\n"
          ]
        }
      ]
    },
    {
      "cell_type": "markdown",
      "source": [
        "6.\tCreate a program that asks the user for their age and prints whether they are a minor, adult, or senior."
      ],
      "metadata": {
        "id": "5PuI7JNusY3-"
      }
    },
    {
      "cell_type": "code",
      "source": [
        "a = int(input(\"enter your age\"))\n",
        "if a < 18:\n",
        "    print(\"minor\")\n",
        "elif a >= 18 and a < 65:\n",
        "    print(\"adult\")\n",
        "else:\n",
        "    print(\"senior\")\n"
      ],
      "metadata": {
        "colab": {
          "base_uri": "https://localhost:8080/"
        },
        "id": "rVH5JBml9ZZX",
        "outputId": "43c396c5-87ef-4d3b-8f97-a09922a1de40"
      },
      "execution_count": null,
      "outputs": [
        {
          "output_type": "stream",
          "name": "stdout",
          "text": [
            "enter your age78\n",
            "senior\n"
          ]
        }
      ]
    },
    {
      "cell_type": "markdown",
      "source": [
        "7.\tWrite a program that evaluates three numbers and prints the largest one."
      ],
      "metadata": {
        "id": "uZtFD1aJ9k1_"
      }
    },
    {
      "cell_type": "code",
      "source": [
        "def maximum(a, b, c):\n",
        "\n",
        "    if (a >= b) and (a >= c):\n",
        "        largest = a\n",
        "\n",
        "    elif (b >= a) and (b >= c):\n",
        "        largest = b\n",
        "    else:\n",
        "        largest = c\n",
        "\n",
        "    return largest\n",
        "a = 10\n",
        "b = 14\n",
        "c = 12\n",
        "print(maximum(a, b, c))"
      ],
      "metadata": {
        "colab": {
          "base_uri": "https://localhost:8080/"
        },
        "id": "pIhqXx4x9vx6",
        "outputId": "0890b668-c037-46fe-b2cf-f1c3e78950fc"
      },
      "execution_count": null,
      "outputs": [
        {
          "output_type": "stream",
          "name": "stdout",
          "text": [
            "14\n"
          ]
        }
      ]
    },
    {
      "cell_type": "markdown",
      "source": [
        "8.\tImplement a program that gives feedback based on a user's score (A, B, C, D, F)."
      ],
      "metadata": {
        "id": "6GBHVWbG_i6w"
      }
    },
    {
      "cell_type": "code",
      "source": [
        "score = float(input(\"Enter your score: \"))\n",
        "if score >= 90:\n",
        "    print(\"Grade: A\")\n",
        "    print(\"Feedback: Excellent work!\")\n",
        "elif score >= 80:\n",
        "    print(\"Grade: B\")\n",
        "    print(\"Feedback: Good job!\")\n",
        "elif score >= 70:\n",
        "    print(\"Grade: C\")\n",
        "    print(\"Feedback: Fair performance!\")\n",
        "elif score >= 60:\n",
        "    print(\"Grade: D\")\n",
        "    print(\"Feedback: Needs improvement.\")\n",
        "else:\n",
        "    print(\"Grade: F\")\n",
        "    print(\"Feedback: Failed. Better luck next time.\")\n"
      ],
      "metadata": {
        "colab": {
          "base_uri": "https://localhost:8080/"
        },
        "id": "fkR2bu5xAid4",
        "outputId": "c6fdc426-5df2-4abd-89b5-3b571ea385ca"
      },
      "execution_count": null,
      "outputs": [
        {
          "output_type": "stream",
          "name": "stdout",
          "text": [
            "Enter your score: 89\n",
            "Grade: B\n",
            "Feedback: Good job!\n"
          ]
        }
      ]
    },
    {
      "cell_type": "markdown",
      "source": [
        "9.\tWrite a program to check if a year is a leap year."
      ],
      "metadata": {
        "id": "XV0AxyaWBvCH"
      }
    },
    {
      "cell_type": "code",
      "source": [
        "def leapyear(year):\n",
        "  if (year % 4==0 and year % 100 != 0):\n",
        "    print (\"this is leap \")\n",
        "  elif (year% 400 == 0):\n",
        "    print (\"this is leap \")\n",
        "  else :\n",
        "    print (\"this is not leap \")\n",
        "year=int(input(\"enter year \"))\n",
        "leapyear(year)"
      ],
      "metadata": {
        "colab": {
          "base_uri": "https://localhost:8080/"
        },
        "id": "DsHklvJqBvus",
        "outputId": "12b2e79e-9306-4c2a-c040-9b342da92ff1"
      },
      "execution_count": null,
      "outputs": [
        {
          "output_type": "stream",
          "name": "stdout",
          "text": [
            "enter year 2024\n",
            "this is leap \n"
          ]
        }
      ]
    },
    {
      "cell_type": "markdown",
      "source": [
        "10.\tDevelop a simple login system that checks a username and password."
      ],
      "metadata": {
        "id": "15DEMNM_B7RO"
      }
    },
    {
      "cell_type": "code",
      "source": [
        "correct_username = \"user123\"\n",
        "correct_password = \"password123\"\n",
        "\n",
        "username = input(\"Enter username: \")\n",
        "password = input(\"Enter password: \")\n",
        "\n",
        "if username == correct_username and password == correct_password:\n",
        "    print(\"Login successful!\")\n",
        "else:\n",
        "    print(\"Invalid username or password. Please try again.\")"
      ],
      "metadata": {
        "colab": {
          "base_uri": "https://localhost:8080/"
        },
        "id": "Tup0Ru3GCq7T",
        "outputId": "21eff1f9-a430-4870-9798-9d86b3539b71"
      },
      "execution_count": null,
      "outputs": [
        {
          "output_type": "stream",
          "name": "stdout",
          "text": [
            "Enter username: user123\n",
            "Enter password: 123\n",
            "Invalid username or password. Please try again.\n"
          ]
        }
      ]
    },
    {
      "cell_type": "markdown",
      "source": [
        "11.\tWrite a Python program that counts the number of vowels in a given string."
      ],
      "metadata": {
        "id": "2U56gt-3DGZ3"
      }
    },
    {
      "cell_type": "code",
      "source": [
        "def count_vowels(input_string):\n",
        "    vowels = \"aeiouAEIOU\"\n",
        "    vowel_count = 0\n",
        "    for char in input_string:\n",
        "        if char in vowels:\n",
        "            vowel_count += 1\n",
        "    return vowel_count\n",
        "input_string = input(\"Enter a string: \")\n",
        "result = count_vowels(input_string)\n",
        "print(f\"The number of vowels in the string is: {result}\")\n"
      ],
      "metadata": {
        "colab": {
          "base_uri": "https://localhost:8080/"
        },
        "id": "Ka_Sg09SDFev",
        "outputId": "4b656d32-3c15-43a0-cbf0-c7c555401d1d"
      },
      "execution_count": null,
      "outputs": [
        {
          "output_type": "stream",
          "name": "stdout",
          "text": [
            "Enter a string: hello world\n",
            "The number of vowels in the string is: 3\n"
          ]
        }
      ]
    },
    {
      "cell_type": "markdown",
      "source": [
        "12.\tCreate a function that removes all whitespace from a user-inputted string."
      ],
      "metadata": {
        "id": "N9nDxAegEaCv"
      }
    },
    {
      "cell_type": "code",
      "source": [
        "def remove_whitespace(input_string):\n",
        "    return ''.join(input_string.split())\n",
        "\n",
        "input_string = input(\"Enter a string: \")\n",
        "result = remove_whitespace(input_string)\n",
        "print(f\"String without whitespace: {result}\")\n"
      ],
      "metadata": {
        "colab": {
          "base_uri": "https://localhost:8080/"
        },
        "id": "e_6O0mT6FSfv",
        "outputId": "dd586c16-8a72-457b-e7fe-91134eba26af"
      },
      "execution_count": null,
      "outputs": [
        {
          "output_type": "stream",
          "name": "stdout",
          "text": [
            "Enter a string: hello world\n",
            "String without whitespace: helloworld\n"
          ]
        }
      ]
    },
    {
      "cell_type": "markdown",
      "source": [
        "13.\tImplement a program to check if two strings are anagrams of each other."
      ],
      "metadata": {
        "id": "i74e_MvRF50L"
      }
    },
    {
      "cell_type": "code",
      "source": [
        "def are_anagrams(str1, str2):\n",
        "\n",
        "    str1 = str1.replace(\" \", \"\").lower()\n",
        "    str2 = str2.replace(\" \", \"\").lower()\n",
        "\n",
        "    return sorted(str1) == sorted(str2)\n",
        "\n",
        "str1 = input(\"Enter the first string: \")\n",
        "str2 = input(\"Enter the second string: \")\n",
        "\n",
        "if are_anagrams(str1, str2):\n",
        "    print(\"The strings are anagrams.\")\n",
        "else:\n",
        "    print(\"The strings are not anagrams.\")\n"
      ],
      "metadata": {
        "colab": {
          "base_uri": "https://localhost:8080/"
        },
        "id": "kTmQxUuLGwxt",
        "outputId": "46f176dc-41cd-43b1-d0a6-361c6554a8f7"
      },
      "execution_count": null,
      "outputs": [
        {
          "output_type": "stream",
          "name": "stdout",
          "text": [
            "Enter the first string: hello\n",
            "Enter the second string: world\n",
            "The strings are not anagrams.\n"
          ]
        }
      ]
    },
    {
      "cell_type": "markdown",
      "source": [
        "14.\tWrite a program to count the frequency of words in a given sentence."
      ],
      "metadata": {
        "id": "_jwrN038HDYS"
      }
    },
    {
      "cell_type": "code",
      "source": [
        "def count_word_frequency(sentence):\n",
        "    words = sentence.split()\n",
        "    word_count = {}\n",
        "    for word in words:\n",
        "        word = word.lower()\n",
        "        if word in word_count:\n",
        "            word_count[word] += 1\n",
        "        else:\n",
        "            word_count[word] = 1\n",
        "    return word_count\n",
        "sentence = input(\"Enter a sentence: \")\n",
        "result = count_word_frequency(sentence)\n",
        "print(\"Word frequency count:\")\n",
        "for word, count in result.items():\n",
        "    print(f\"{word}: {count}\")\n"
      ],
      "metadata": {
        "colab": {
          "base_uri": "https://localhost:8080/"
        },
        "id": "3EEWTar6JOHx",
        "outputId": "cee9e99e-4e9f-40c5-83f3-f63f43e1cc98"
      },
      "execution_count": null,
      "outputs": [
        {
          "output_type": "stream",
          "name": "stdout",
          "text": [
            "Enter a sentence: the sky  is blue and the car is blue\n",
            "Word frequency count:\n",
            "the: 2\n",
            "sky: 1\n",
            "is: 2\n",
            "blue: 2\n",
            "and: 1\n",
            "car: 1\n"
          ]
        }
      ]
    },
    {
      "cell_type": "markdown",
      "source": [
        "15.\tCreate a function that replaces every occurrence of a substring with another substring in a string."
      ],
      "metadata": {
        "id": "o1Zt1256JbS7"
      }
    },
    {
      "cell_type": "code",
      "source": [
        "s = \"hello world\"\n",
        "print(s.replace(\"l\", \"m\"))\n"
      ],
      "metadata": {
        "id": "SxsVntdEJeMK",
        "colab": {
          "base_uri": "https://localhost:8080/"
        },
        "outputId": "cb53652e-5408-40fa-8f11-180b9503ad95"
      },
      "execution_count": null,
      "outputs": [
        {
          "output_type": "stream",
          "name": "stdout",
          "text": [
            "hemmo wormd\n"
          ]
        }
      ]
    },
    {
      "cell_type": "markdown",
      "source": [
        "16.\tWrite a program that generates the first 10 Fibonacci numbers using iteration."
      ],
      "metadata": {
        "id": "TAGxUfvLNteb"
      }
    },
    {
      "cell_type": "code",
      "source": [
        "\n",
        "num=int(input(\"enter the number: \"))\n",
        "a=0\n",
        "b=1\n",
        "print(a, end=\"\")\n",
        "for i in range(1,num+1):\n",
        "    C=a+b\n",
        "    print(C, end=\"\")\n",
        "    a=b\n",
        "    b=C"
      ],
      "metadata": {
        "colab": {
          "base_uri": "https://localhost:8080/"
        },
        "id": "bF4VS363OeIU",
        "outputId": "939c8d6b-10e3-4915-e3e6-afccf2143483"
      },
      "execution_count": null,
      "outputs": [
        {
          "output_type": "stream",
          "name": "stdout",
          "text": [
            "enter the number: 10\n",
            "0123581321345589"
          ]
        }
      ]
    },
    {
      "cell_type": "markdown",
      "source": [
        "17.\tCreate a program that sums all even numbers from 1 to 100."
      ],
      "metadata": {
        "id": "fxpiaOXCQJhw"
      }
    },
    {
      "cell_type": "code",
      "source": [
        "sum= 0\n",
        "for num in range(1, 101):\n",
        "    if num % 2 == 0:\n",
        "        sum+= num\n",
        "print(\"Sum of all even numbers from 1 to 100 is:\", sum)\n"
      ],
      "metadata": {
        "colab": {
          "base_uri": "https://localhost:8080/"
        },
        "id": "1_XXcLJ7RLGX",
        "outputId": "a627f366-0fe6-4cac-89ce-15150729e3c3"
      },
      "execution_count": null,
      "outputs": [
        {
          "output_type": "stream",
          "name": "stdout",
          "text": [
            "Sum of all even numbers from 1 to 100 is: 2550\n"
          ]
        }
      ]
    },
    {
      "cell_type": "markdown",
      "source": [
        "18.\tWrite a Python script that prints the multiplication table of a user-defined number"
      ],
      "metadata": {
        "id": "33S806JISBBJ"
      }
    },
    {
      "cell_type": "code",
      "source": [
        "\n",
        "num = int(input(\"Enter a number to print its multiplication table: \"))\n",
        "print(f\"Multiplication table of {num}:\")\n",
        "\n",
        "for i in range(1, 11):\n",
        "    print(f\"{num} x {i} = {num * i}\")\n"
      ],
      "metadata": {
        "colab": {
          "base_uri": "https://localhost:8080/"
        },
        "id": "rR-WgwYESDed",
        "outputId": "5dfbda0d-409b-471b-8863-fedb071d5641"
      },
      "execution_count": null,
      "outputs": [
        {
          "output_type": "stream",
          "name": "stdout",
          "text": [
            "Enter a number to print its multiplication table: 5\n",
            "Multiplication table of 5:\n",
            "5 x 1 = 5\n",
            "5 x 2 = 10\n",
            "5 x 3 = 15\n",
            "5 x 4 = 20\n",
            "5 x 5 = 25\n",
            "5 x 6 = 30\n",
            "5 x 7 = 35\n",
            "5 x 8 = 40\n",
            "5 x 9 = 45\n",
            "5 x 10 = 50\n"
          ]
        }
      ]
    },
    {
      "cell_type": "markdown",
      "source": [
        "19.\tDevelop a program that calculates the factorial of a number using a loop."
      ],
      "metadata": {
        "id": "iSaysw5CSso4"
      }
    },
    {
      "cell_type": "code",
      "source": [
        "\n",
        "num = int(input(\"Enter a number to calculate its factorial: \"))\n",
        "factorial = 1\n",
        "if num < 0:\n",
        "    print(\"Factorial is not defined for negative numbers.\")\n",
        "else:\n",
        "    for i in range(1, num + 1):\n",
        "        factorial *= i\n",
        "\n",
        "    print(f\"The factorial of {num} is {factorial}\")\n"
      ],
      "metadata": {
        "colab": {
          "base_uri": "https://localhost:8080/"
        },
        "id": "wcHy9HZoSxDx",
        "outputId": "656e27d4-fe47-4fb7-e885-693295c45585"
      },
      "execution_count": null,
      "outputs": [
        {
          "output_type": "stream",
          "name": "stdout",
          "text": [
            "Enter a number to calculate its factorial: 12\n",
            "The factorial of 12 is 479001600\n"
          ]
        }
      ]
    },
    {
      "cell_type": "markdown",
      "source": [
        "20.\tCreate a function that lists all prime numbers up to a specified limit."
      ],
      "metadata": {
        "id": "Gbu0fq-NWsRk"
      }
    },
    {
      "cell_type": "code",
      "source": [],
      "metadata": {
        "id": "roBXJtxXWssX"
      },
      "execution_count": null,
      "outputs": []
    },
    {
      "cell_type": "markdown",
      "source": [
        "21.\tWrite a function that calculates the greatest common divisor (GCD) of two numbers."
      ],
      "metadata": {
        "id": "H0kIPzkFWtgN"
      }
    },
    {
      "cell_type": "code",
      "source": [
        "def greter(a, b):\n",
        "    while(b):\n",
        "        a, b = b, a % b\n",
        "    return a\n",
        "num1 = 50\n",
        "num2 = 10\n",
        "result = greter(num1, num2)\n",
        "print(f\"The Greter Common Divisor of {num1} and {num2} is {result}\")"
      ],
      "metadata": {
        "colab": {
          "base_uri": "https://localhost:8080/"
        },
        "id": "cWSPj74WWgXT",
        "outputId": "f9e4663e-00cb-491b-8289-0422b7b0ff69"
      },
      "execution_count": null,
      "outputs": [
        {
          "output_type": "stream",
          "name": "stdout",
          "text": [
            "The Greter Common Divisor of 50 and 10 is 10\n"
          ]
        }
      ]
    },
    {
      "cell_type": "markdown",
      "source": [
        "22.\tCreate a Python function that takes a list of numbers and returns the largest number"
      ],
      "metadata": {
        "id": "NUUzjcn-cK8E"
      }
    },
    {
      "cell_type": "code",
      "source": [
        "\n",
        "def find_largest(numbers):\n",
        "    return max(numbers)\n",
        "num_list = [10, 45, 23, 67, 12, 89, 34]\n",
        "largest = find_largest(num_list)\n",
        "print(f\"The largest number in the list is: {largest}\")\n"
      ],
      "metadata": {
        "colab": {
          "base_uri": "https://localhost:8080/"
        },
        "id": "mTUyPMABcJWG",
        "outputId": "93a80143-ed38-4951-97d8-6f5a4a404f68"
      },
      "execution_count": null,
      "outputs": [
        {
          "output_type": "stream",
          "name": "stdout",
          "text": [
            "The largest number in the list is: 89\n"
          ]
        }
      ]
    },
    {
      "cell_type": "markdown",
      "source": [],
      "metadata": {
        "id": "BXjyYtOKckBz"
      }
    },
    {
      "cell_type": "markdown",
      "source": [
        "23.\tImplement a function for finding the factorial of a number using recursion."
      ],
      "metadata": {
        "id": "Kq33-QrJc4VD"
      }
    },
    {
      "cell_type": "code",
      "source": [
        "def factorial(n):\n",
        "\n",
        "    if n == 0 or n == 1:\n",
        "        return 1\n",
        "    else:\n",
        "        return n * factorial(n - 1)\n",
        "num = int(input(\"Enter a number to calculate its factorial: \"))\n",
        "result = factorial(num)\n",
        "print(f\"The factorial of {num} is {result}\")\n"
      ],
      "metadata": {
        "colab": {
          "base_uri": "https://localhost:8080/"
        },
        "id": "btJsBv99c-zZ",
        "outputId": "bd096410-6385-4d4f-8247-cd98ecab9d31"
      },
      "execution_count": null,
      "outputs": [
        {
          "output_type": "stream",
          "name": "stdout",
          "text": [
            "Enter a number to calculate its factorial: 20\n",
            "The factorial of 20 is 2432902008176640000\n"
          ]
        }
      ]
    },
    {
      "cell_type": "markdown",
      "source": [
        "**24**.\tWrite a program that utilizes global variables and demonstrates their use in functions."
      ],
      "metadata": {
        "id": "2q8gtHJVd_CW"
      }
    },
    {
      "cell_type": "code",
      "source": [],
      "metadata": {
        "id": "03KRCPejeE0m"
      },
      "execution_count": null,
      "outputs": []
    },
    {
      "cell_type": "markdown",
      "source": [
        "25.\tDevelop a module that contains utility functions for string manipulations."
      ],
      "metadata": {
        "id": "y1Mof-OMgscC"
      }
    },
    {
      "cell_type": "code",
      "source": [],
      "metadata": {
        "id": "5CsSXZ8NgtWj"
      },
      "execution_count": null,
      "outputs": []
    },
    {
      "cell_type": "markdown",
      "source": [
        "26.\tWrite a simple testing script that verifies the functionality of your calculator from a previous assignment."
      ],
      "metadata": {
        "id": "LcSIx2TZeO58"
      }
    },
    {
      "cell_type": "code",
      "source": [],
      "metadata": {
        "id": "a_GchSqvePN8"
      },
      "execution_count": null,
      "outputs": []
    },
    {
      "cell_type": "markdown",
      "source": [
        "27.\tCreate a program that includes debugging statements to show the flow of execution"
      ],
      "metadata": {
        "id": "Y9YGqIlpePdz"
      }
    },
    {
      "cell_type": "code",
      "source": [],
      "metadata": {
        "id": "XDp7M8OEeP3K"
      },
      "execution_count": null,
      "outputs": []
    },
    {
      "cell_type": "markdown",
      "source": [
        "28.\tImplement a function and write unit tests to confirm its correctness using assertions."
      ],
      "metadata": {
        "id": "mra7-av1eQG9"
      }
    },
    {
      "cell_type": "code",
      "source": [
        "def is_prime(n):\n",
        "\n",
        "    if n <= 1:\n",
        "        return False\n",
        "    for i in range(2, int(n**0.5) + 1):\n",
        "            return False\n",
        "    return True\n"
      ],
      "metadata": {
        "id": "sL-_vF6jeQWx"
      },
      "execution_count": null,
      "outputs": []
    },
    {
      "cell_type": "markdown",
      "source": [
        "29.Create a logging system that tracks function calls and their parameters."
      ],
      "metadata": {
        "id": "sISCTOzYx-FQ"
      }
    },
    {
      "cell_type": "code",
      "source": [],
      "metadata": {
        "id": "bdyoJ-CjzNdc"
      },
      "execution_count": null,
      "outputs": []
    },
    {
      "cell_type": "markdown",
      "source": [
        "30.\tCreate a logging system that tracks function calls and their parameters."
      ],
      "metadata": {
        "id": "EGGD-F4azMZe"
      }
    },
    {
      "cell_type": "code",
      "source": [],
      "metadata": {
        "id": "t6HdMZ7Kyu96"
      },
      "execution_count": null,
      "outputs": []
    },
    {
      "cell_type": "markdown",
      "source": [
        "31. Write a Python script to demonstrate the usage of tuples for storing coordinates."
      ],
      "metadata": {
        "id": "eT6HtR7IzckB"
      }
    },
    {
      "cell_type": "code",
      "source": [],
      "metadata": {
        "id": "pbGdtW4QznQc"
      },
      "execution_count": null,
      "outputs": []
    },
    {
      "cell_type": "markdown",
      "source": [
        "32. Create a program that uses lists and demonstrates mutability by modifying the list items."
      ],
      "metadata": {
        "id": "Vyb6SEzpzlx-"
      }
    },
    {
      "cell_type": "code",
      "source": [],
      "metadata": {
        "id": "HmgOpilSzvYB"
      },
      "execution_count": null,
      "outputs": []
    },
    {
      "cell_type": "markdown",
      "source": [
        "33.Create a program that uses lists and demonstrates mutability by modifying the list items."
      ],
      "metadata": {
        "id": "htuU9xPjzz-V"
      }
    },
    {
      "cell_type": "code",
      "source": [],
      "metadata": {
        "id": "noEw6PD5z_6F"
      },
      "execution_count": null,
      "outputs": []
    },
    {
      "cell_type": "markdown",
      "source": [
        "34.\tWrite a program to simulate a simple inventory system using dictionaries."
      ],
      "metadata": {
        "id": "L_ndgXzl0AZX"
      }
    },
    {
      "cell_type": "code",
      "source": [],
      "metadata": {
        "id": "WrC2SuqN0EIO"
      },
      "execution_count": null,
      "outputs": []
    },
    {
      "cell_type": "markdown",
      "source": [
        "35.\tCreate a function that sorts a list of dictionaries by a specified key."
      ],
      "metadata": {
        "id": "efbbpX2j0EYs"
      }
    },
    {
      "cell_type": "code",
      "source": [
        "d={1}"
      ],
      "metadata": {
        "id": "zG25feieN_i_"
      },
      "execution_count": null,
      "outputs": []
    },
    {
      "cell_type": "markdown",
      "source": [
        "36.\tWrite a program that reads a file and handles exceptions if the file does not exist."
      ],
      "metadata": {
        "id": "X0-NwdWg0d8w"
      }
    },
    {
      "cell_type": "code",
      "source": [],
      "metadata": {
        "id": "I7cfm60Y0h_1"
      },
      "execution_count": null,
      "outputs": []
    },
    {
      "cell_type": "markdown",
      "source": [
        "37.\tCreate a function that raises an exception if the input is not a positive number"
      ],
      "metadata": {
        "id": "Z_NzBc2K0jvC"
      }
    },
    {
      "cell_type": "code",
      "source": [],
      "metadata": {
        "id": "6KWlnk8L0ttC"
      },
      "execution_count": null,
      "outputs": []
    },
    {
      "cell_type": "markdown",
      "source": [
        "38.\tImplement a program that uses assertions to check the validity of user input."
      ],
      "metadata": {
        "id": "gHAHsSBE0ygE"
      }
    },
    {
      "cell_type": "code",
      "source": [],
      "metadata": {
        "id": "eNdRJQYqB3fg"
      },
      "execution_count": null,
      "outputs": []
    },
    {
      "cell_type": "markdown",
      "source": [
        "39.\tWrite a function to demonstrate the use of try-except blocks when dividing numbers"
      ],
      "metadata": {
        "id": "rinyIVxx03dG"
      }
    },
    {
      "cell_type": "code",
      "source": [],
      "metadata": {
        "id": "_hq6XGGJ05Ah"
      },
      "execution_count": null,
      "outputs": []
    },
    {
      "cell_type": "markdown",
      "source": [
        "40.\tCreate a program that captures and logs exceptions thrown in a mathematical computation."
      ],
      "metadata": {
        "id": "7Acgw47Q05t0"
      }
    },
    {
      "cell_type": "code",
      "source": [],
      "metadata": {
        "id": "g13B_gOS09aC"
      },
      "execution_count": null,
      "outputs": []
    },
    {
      "cell_type": "markdown",
      "source": [
        "41.\tDefine a class for a Rectangle that calculates the area and perimeter."
      ],
      "metadata": {
        "id": "hvTGfXT4B7xk"
      }
    },
    {
      "cell_type": "code",
      "source": [],
      "metadata": {
        "id": "wnqT8ly4DNz5"
      },
      "execution_count": null,
      "outputs": []
    },
    {
      "cell_type": "markdown",
      "source": [
        "42.\tCreate a class that models a BankAccount with methods to deposit and withdraw funds."
      ],
      "metadata": {
        "id": "rsWkfcVLB8cx"
      }
    },
    {
      "cell_type": "code",
      "source": [],
      "metadata": {
        "id": "Ceh0-hn6B8wV"
      },
      "execution_count": null,
      "outputs": []
    },
    {
      "cell_type": "markdown",
      "source": [
        "43.\tImplement inheritance by creating a Circle class that inherits from a Shape class."
      ],
      "metadata": {
        "id": "7TVHHbAUB9Af"
      }
    },
    {
      "cell_type": "code",
      "source": [],
      "metadata": {
        "id": "FTLNWbHQB9R-"
      },
      "execution_count": null,
      "outputs": []
    },
    {
      "cell_type": "markdown",
      "source": [
        "43.\tImplement inheritance by creating a Circle class that inherits from a Shape class."
      ],
      "metadata": {
        "id": "dDE_sAIkB-AB"
      }
    },
    {
      "cell_type": "code",
      "source": [],
      "metadata": {
        "id": "D5mnBKvsB-PW"
      },
      "execution_count": null,
      "outputs": []
    },
    {
      "cell_type": "markdown",
      "source": [
        "45.\tCreate an abstract class Animal with subclasses for Dog and Cat."
      ],
      "metadata": {
        "id": "FHvpcLDiD7cs"
      }
    },
    {
      "cell_type": "code",
      "source": [],
      "metadata": {
        "id": "pJLoDUNPD73v"
      },
      "execution_count": null,
      "outputs": []
    },
    {
      "cell_type": "markdown",
      "source": [
        "46.\tImplement a binary search algorithm on a sorted list of numbers"
      ],
      "metadata": {
        "id": "Ax4EQeNoD8G4"
      }
    },
    {
      "cell_type": "code",
      "source": [],
      "metadata": {
        "id": "KbnopwUUD8XA"
      },
      "execution_count": null,
      "outputs": []
    },
    {
      "cell_type": "markdown",
      "source": [
        "47.\tWrite a sorting algorithm (e.g., bubble sort) and test its functionality."
      ],
      "metadata": {
        "id": "WBo6-Dw9EiR1"
      }
    },
    {
      "cell_type": "code",
      "source": [],
      "metadata": {
        "id": "1uJRHwyzEir7"
      },
      "execution_count": null,
      "outputs": []
    },
    {
      "cell_type": "markdown",
      "source": [
        "48.\tCreate a program that utilizes a hashtable to store and retrieve key-value pairs."
      ],
      "metadata": {
        "id": "XIRLPAbEEjBv"
      }
    },
    {
      "cell_type": "code",
      "source": [],
      "metadata": {
        "id": "fBdQPCMnEjU_"
      },
      "execution_count": null,
      "outputs": []
    },
    {
      "cell_type": "markdown",
      "source": [
        "49.\tDevelop a function that sorts a list of dictionaries based on the values of a specific key"
      ],
      "metadata": {
        "id": "Gwi1Rr0kEy0A"
      }
    },
    {
      "cell_type": "code",
      "source": [],
      "metadata": {
        "id": "cE1i7v0-Ez2W"
      },
      "execution_count": null,
      "outputs": []
    },
    {
      "cell_type": "markdown",
      "source": [
        "50.\tWrite a program that implements a breadth-first search for a graph structure"
      ],
      "metadata": {
        "id": "niLlhkcTFA12"
      }
    },
    {
      "cell_type": "code",
      "source": [],
      "metadata": {
        "id": "ZqNInDzbFG5Y"
      },
      "execution_count": null,
      "outputs": []
    }
  ]
}