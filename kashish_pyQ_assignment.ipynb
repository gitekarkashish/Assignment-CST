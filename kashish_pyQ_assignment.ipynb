{
  "cells": [
    {
      "cell_type": "markdown",
      "metadata": {
        "id": "view-in-github",
        "colab_type": "text"
      },
      "source": [
        "<a href=\"https://colab.research.google.com/github/gitekarkashish/Assignment-CST/blob/main/kashish_pyQ_assignment.ipynb\" target=\"_parent\"><img src=\"https://colab.research.google.com/assets/colab-badge.svg\" alt=\"Open In Colab\"/></a>"
      ]
    },
    {
      "cell_type": "code",
      "execution_count": null,
      "metadata": {
        "colab": {
          "base_uri": "https://localhost:8080/"
        },
        "id": "2OjD0vZpVNm6",
        "outputId": "5093c470-8209-4cd3-d28f-2cbb3a73717f"
      },
      "outputs": [
        {
          "name": "stdout",
          "output_type": "stream",
          "text": [
            "Enter the radius of the circle: 2\n",
            "12.56\n"
          ]
        }
      ],
      "source": [
        "def calculate_circle_area(radius):\n",
        "  area = 3.14 * radius * radius\n",
        "  return area\n",
        "radius = int(input(\"Enter the radius of the circle: \"))\n",
        "print(area)"
      ]
    },
    {
      "cell_type": "markdown",
      "metadata": {
        "id": "KFRxMjJhlJjj"
      },
      "source": [
        "2.\tCreate a program that takes user input for a temperature in Celsius and converts it to Fahrenheit."
      ]
    },
    {
      "cell_type": "code",
      "execution_count": null,
      "metadata": {
        "colab": {
          "base_uri": "https://localhost:8080/"
        },
        "id": "xenNCt8amHBV",
        "outputId": "a512a84b-efe5-4966-e032-a8f8c3b6fec7"
      },
      "outputs": [
        {
          "name": "stdout",
          "output_type": "stream",
          "text": [
            "Enter temperature in Celsius: 45.5\n",
            "45.5 degrees Celsius is equal to 113.9 degrees Fahrenheit\n"
          ]
        }
      ],
      "source": [
        "celsius = float(input(\"Enter temperature in Celsius: \"))\n",
        "fahrenheit = (celsius * 9/5) + 32\n",
        "print(f\"{celsius} degrees Celsius is equal to {fahrenheit} degrees Fahrenheit\")"
      ]
    },
    {
      "cell_type": "markdown",
      "metadata": {
        "id": "xW-7I9JBmkZo"
      },
      "source": [
        "3.\tImplement a calculator that performs basic arithmetic operations (addition, subtraction, multiplication, division) based on user input."
      ]
    },
    {
      "cell_type": "code",
      "execution_count": null,
      "metadata": {
        "colab": {
          "base_uri": "https://localhost:8080/"
        },
        "id": "1NMPzSoH7fEl",
        "outputId": "ed67d84f-ac0b-4f31-b448-b36ca2a8187f"
      },
      "outputs": [
        {
          "name": "stdout",
          "output_type": "stream",
          "text": [
            "enter the no a5\n",
            "enter the no b2\n",
            "7\n",
            "3\n",
            "10\n",
            "2.5\n"
          ]
        }
      ],
      "source": [
        "def calulation(a,b):\n",
        "   calulation(a,b)\n",
        "   return calulation\n",
        "a=int(input(\"enter the no a\"))\n",
        "b=int(input(\"enter the no b\"))\n",
        "print(a+b)\n",
        "print(a-b)\n",
        "print(a*b)\n",
        "print(a/b)"
      ]
    },
    {
      "cell_type": "markdown",
      "metadata": {
        "id": "znVN147spdrL"
      },
      "source": [
        "4.\tWrite a program that checks if a number is even or odd."
      ]
    },
    {
      "cell_type": "code",
      "execution_count": null,
      "metadata": {
        "colab": {
          "base_uri": "https://localhost:8080/"
        },
        "id": "j1GpUllYqWdl",
        "outputId": "d1fc0e60-1e09-49de-a212-3fc84f578c38"
      },
      "outputs": [
        {
          "name": "stdout",
          "output_type": "stream",
          "text": [
            "enter the number84\n",
            "it has even no\n"
          ]
        }
      ],
      "source": [
        "a=int(input(\"enter the number\"))\n",
        "if a%2==0:\n",
        "  print(\"it has even no\")\n",
        "else:\n",
        "  print(\" it has odd no\")"
      ]
    },
    {
      "cell_type": "markdown",
      "metadata": {
        "id": "wsDnZ7najxKP"
      },
      "source": [
        "\\1.\tWrite a Python program to calculate the area of a circle given its radius."
      ]
    },
    {
      "cell_type": "markdown",
      "metadata": {
        "id": "y9o1TfGorPzo"
      },
      "source": [
        "5.\tDevelop a function that takes a string as input and returns the string reversed."
      ]
    },
    {
      "cell_type": "code",
      "execution_count": null,
      "metadata": {
        "colab": {
          "base_uri": "https://localhost:8080/"
        },
        "id": "iQWTUuIRrSZn",
        "outputId": "d4c64520-e0b9-4aab-997a-ced94ed32145"
      },
      "outputs": [
        {
          "name": "stdout",
          "output_type": "stream",
          "text": [
            "dlrow olleh\n"
          ]
        }
      ],
      "source": [
        "a=\"hello world\"\n",
        "rev=''.join(reversed(a))\n",
        "print(rev)"
      ]
    },
    {
      "cell_type": "markdown",
      "metadata": {
        "id": "5PuI7JNusY3-"
      },
      "source": [
        "6.\tCreate a program that asks the user for their age and prints whether they are a minor, adult, or senior."
      ]
    },
    {
      "cell_type": "code",
      "execution_count": null,
      "metadata": {
        "colab": {
          "base_uri": "https://localhost:8080/"
        },
        "id": "ydyk47Rp93I7",
        "outputId": "f95a1c91-e1ba-4b82-c9f1-580c603bf869"
      },
      "outputs": [
        {
          "name": "stdout",
          "output_type": "stream",
          "text": [
            "enter the age19\n",
            "adult\n"
          ]
        }
      ],
      "source": [
        "def age(age):\n",
        "  return age\n",
        "age=int(input(\"enter the age\"))  # Changed 'intput' to 'input'\n",
        "if age<18 :\n",
        "  print(\"minor\")\n",
        "elif age>=18 and age <65:\n",
        "  print(\"adult\")\n",
        "else :\n",
        "  print(\"senior\")"
      ]
    },
    {
      "cell_type": "markdown",
      "metadata": {
        "id": "uZtFD1aJ9k1_"
      },
      "source": [
        "7.\tWrite a program that evaluates three numbers and prints the largest one."
      ]
    },
    {
      "cell_type": "code",
      "execution_count": null,
      "metadata": {
        "colab": {
          "base_uri": "https://localhost:8080/"
        },
        "id": "pIhqXx4x9vx6",
        "outputId": "17df4d17-f9c1-43bc-c1a0-d9225b63f810"
      },
      "outputs": [
        {
          "name": "stdout",
          "output_type": "stream",
          "text": [
            "enter the first no12\n",
            "enter the second no10\n",
            "enter the third no21\n",
            "21\n"
          ]
        }
      ],
      "source": [
        "def maximum(a, b, c):\n",
        "\n",
        "    if (a >= b) and (a >= c):\n",
        "        largest = a\n",
        "\n",
        "    elif (b >= a) and (b >= c):\n",
        "        largest = b\n",
        "    else:\n",
        "        largest = c\n",
        "\n",
        "    return largest\n",
        "a = int(input(\"enter the first no\"))\n",
        "b=int(input(\"enter the second no\"))\n",
        "c=int(input(\"enter the third no\"))\n",
        "print(maximum(a, b, c))"
      ]
    },
    {
      "cell_type": "markdown",
      "metadata": {
        "id": "6GBHVWbG_i6w"
      },
      "source": [
        "8.\tImplement a program that gives feedback based on a user's score (A, B, C, D, F)."
      ]
    },
    {
      "cell_type": "code",
      "execution_count": null,
      "metadata": {
        "colab": {
          "base_uri": "https://localhost:8080/"
        },
        "id": "fkR2bu5xAid4",
        "outputId": "c6fdc426-5df2-4abd-89b5-3b571ea385ca"
      },
      "outputs": [
        {
          "name": "stdout",
          "output_type": "stream",
          "text": [
            "Enter your score: 89\n",
            "Grade: B\n",
            "Feedback: Good job!\n"
          ]
        }
      ],
      "source": [
        "score = float(input(\"Enter your score: \"))\n",
        "if score >= 90:\n",
        "    print(\"Grade: A\")\n",
        "    print(\"Feedback: Excellent work!\")\n",
        "elif score >= 80:\n",
        "    print(\"Grade: B\")\n",
        "    print(\"Feedback: Good job!\")\n",
        "elif score >= 70:\n",
        "    print(\"Grade: C\")\n",
        "    print(\"Feedback: Fair performance!\")\n",
        "elif score >= 60:\n",
        "    print(\"Grade: D\")\n",
        "    print(\"Feedback: Needs improvement.\")\n",
        "else:\n",
        "    print(\"Grade: F\")\n",
        "    print(\"Feedback: Failed. Better luck next time.\")\n"
      ]
    },
    {
      "cell_type": "markdown",
      "metadata": {
        "id": "XV0AxyaWBvCH"
      },
      "source": [
        "9.\tWrite a program to check if a year is a leap year."
      ]
    },
    {
      "cell_type": "code",
      "execution_count": null,
      "metadata": {
        "colab": {
          "base_uri": "https://localhost:8080/"
        },
        "id": "DsHklvJqBvus",
        "outputId": "9e9451bc-d046-48ba-f6da-7749ef9e8bdc"
      },
      "outputs": [
        {
          "name": "stdout",
          "output_type": "stream",
          "text": [
            "enter year 2024\n",
            "this is leap \n"
          ]
        }
      ],
      "source": [
        "def leapyear(year):\n",
        "  if (year % 4==0 and year % 100 != 0):\n",
        "    print (\"this is leap \")\n",
        "  elif (year% 400 == 0):\n",
        "    print (\"this is leap \")\n",
        "  else :\n",
        "    print (\"this is not leap \")\n",
        "year=int(input(\"enter year \"))\n",
        "leapyear(year)"
      ]
    },
    {
      "cell_type": "markdown",
      "metadata": {
        "id": "15DEMNM_B7RO"
      },
      "source": [
        "10.\tDevelop a simple login system that checks a username and password."
      ]
    },
    {
      "cell_type": "code",
      "execution_count": null,
      "metadata": {
        "colab": {
          "base_uri": "https://localhost:8080/"
        },
        "id": "Tup0Ru3GCq7T",
        "outputId": "21eff1f9-a430-4870-9798-9d86b3539b71"
      },
      "outputs": [
        {
          "name": "stdout",
          "output_type": "stream",
          "text": [
            "Enter username: user123\n",
            "Enter password: 123\n",
            "Invalid username or password. Please try again.\n"
          ]
        }
      ],
      "source": [
        "correct_username = \"user123\"\n",
        "correct_password = \"password123\"\n",
        "\n",
        "username = input(\"Enter username: \")\n",
        "password = input(\"Enter password: \")\n",
        "\n",
        "if username == correct_username and password == correct_password:\n",
        "    print(\"Login successful!\")\n",
        "else:\n",
        "    print(\"Invalid username or password. Please try again.\")"
      ]
    },
    {
      "cell_type": "markdown",
      "metadata": {
        "id": "2U56gt-3DGZ3"
      },
      "source": [
        "11.\tWrite a Python program that counts the number of vowels in a given string."
      ]
    },
    {
      "cell_type": "code",
      "execution_count": null,
      "metadata": {
        "colab": {
          "base_uri": "https://localhost:8080/"
        },
        "id": "Ka_Sg09SDFev",
        "outputId": "4b656d32-3c15-43a0-cbf0-c7c555401d1d"
      },
      "outputs": [
        {
          "name": "stdout",
          "output_type": "stream",
          "text": [
            "Enter a string: hello world\n",
            "The number of vowels in the string is: 3\n"
          ]
        }
      ],
      "source": [
        "def count_vowels(input_string):\n",
        "    vowels = \"aeiouAEIOU\"\n",
        "    vowel_count = 0\n",
        "    for char in input_string:\n",
        "        if char in vowels:\n",
        "            vowel_count += 1\n",
        "    return vowel_count\n",
        "input_string = input(\"Enter a string: \")\n",
        "result = count_vowels(input_string)\n",
        "print(f\"The number of vowels in the string is: {result}\")\n"
      ]
    },
    {
      "cell_type": "markdown",
      "metadata": {
        "id": "N9nDxAegEaCv"
      },
      "source": [
        "12.\tCreate a function that removes all whitespace from a user-inputted string."
      ]
    },
    {
      "cell_type": "code",
      "execution_count": null,
      "metadata": {
        "colab": {
          "base_uri": "https://localhost:8080/"
        },
        "id": "e_6O0mT6FSfv",
        "outputId": "dd586c16-8a72-457b-e7fe-91134eba26af"
      },
      "outputs": [
        {
          "name": "stdout",
          "output_type": "stream",
          "text": [
            "Enter a string: hello world\n",
            "String without whitespace: helloworld\n"
          ]
        }
      ],
      "source": [
        "def remove_whitespace(input_string):\n",
        "    return ''.join(input_string.split())\n",
        "\n",
        "input_string = input(\"Enter a string: \")\n",
        "result = remove_whitespace(input_string)\n",
        "print(f\"String without whitespace: {result}\")\n"
      ]
    },
    {
      "cell_type": "markdown",
      "metadata": {
        "id": "i74e_MvRF50L"
      },
      "source": [
        "13.\tImplement a program to check if two strings are anagrams of each other."
      ]
    },
    {
      "cell_type": "code",
      "execution_count": null,
      "metadata": {
        "colab": {
          "base_uri": "https://localhost:8080/"
        },
        "id": "kTmQxUuLGwxt",
        "outputId": "46f176dc-41cd-43b1-d0a6-361c6554a8f7"
      },
      "outputs": [
        {
          "name": "stdout",
          "output_type": "stream",
          "text": [
            "Enter the first string: hello\n",
            "Enter the second string: world\n",
            "The strings are not anagrams.\n"
          ]
        }
      ],
      "source": [
        "def are_anagrams(str1, str2):\n",
        "\n",
        "    str1 = str1.replace(\" \", \"\").lower()\n",
        "    str2 = str2.replace(\" \", \"\").lower()\n",
        "\n",
        "    return sorted(str1) == sorted(str2)\n",
        "\n",
        "str1 = input(\"Enter the first string: \")\n",
        "str2 = input(\"Enter the second string: \")\n",
        "\n",
        "if are_anagrams(str1, str2):\n",
        "    print(\"The strings are anagrams.\")\n",
        "else:\n",
        "    print(\"The strings are not anagrams.\")\n"
      ]
    },
    {
      "cell_type": "markdown",
      "metadata": {
        "id": "_jwrN038HDYS"
      },
      "source": [
        "14.\tWrite a program to count the frequency of words in a given sentence."
      ]
    },
    {
      "cell_type": "code",
      "execution_count": null,
      "metadata": {
        "colab": {
          "base_uri": "https://localhost:8080/"
        },
        "id": "3EEWTar6JOHx",
        "outputId": "cee9e99e-4e9f-40c5-83f3-f63f43e1cc98"
      },
      "outputs": [
        {
          "name": "stdout",
          "output_type": "stream",
          "text": [
            "Enter a sentence: the sky  is blue and the car is blue\n",
            "Word frequency count:\n",
            "the: 2\n",
            "sky: 1\n",
            "is: 2\n",
            "blue: 2\n",
            "and: 1\n",
            "car: 1\n"
          ]
        }
      ],
      "source": [
        "def count_word_frequency(sentence):\n",
        "    words = sentence.split()\n",
        "    word_count = {}\n",
        "    for word in words:\n",
        "        word = word.lower()\n",
        "        if word in word_count:\n",
        "            word_count[word] += 1\n",
        "        else:\n",
        "            word_count[word] = 1\n",
        "    return word_count\n",
        "sentence = input(\"Enter a sentence: \")\n",
        "result = count_word_frequency(sentence)\n",
        "print(\"Word frequency count:\")\n",
        "for word, count in result.items():\n",
        "    print(f\"{word}: {count}\")\n"
      ]
    },
    {
      "cell_type": "markdown",
      "metadata": {
        "id": "o1Zt1256JbS7"
      },
      "source": [
        "15.\tCreate a function that replaces every occurrence of a substring with another substring in a string."
      ]
    },
    {
      "cell_type": "code",
      "execution_count": null,
      "metadata": {
        "colab": {
          "base_uri": "https://localhost:8080/"
        },
        "id": "SxsVntdEJeMK",
        "outputId": "cb53652e-5408-40fa-8f11-180b9503ad95"
      },
      "outputs": [
        {
          "name": "stdout",
          "output_type": "stream",
          "text": [
            "hemmo wormd\n"
          ]
        }
      ],
      "source": [
        "s = \"hello world\"\n",
        "print(s.replace(\"l\", \"m\"))\n"
      ]
    },
    {
      "cell_type": "markdown",
      "metadata": {
        "id": "TAGxUfvLNteb"
      },
      "source": [
        "16.\tWrite a program that generates the first 10 Fibonacci numbers using iteration."
      ]
    },
    {
      "cell_type": "code",
      "execution_count": null,
      "metadata": {
        "colab": {
          "base_uri": "https://localhost:8080/"
        },
        "id": "bF4VS363OeIU",
        "outputId": "939c8d6b-10e3-4915-e3e6-afccf2143483"
      },
      "outputs": [
        {
          "name": "stdout",
          "output_type": "stream",
          "text": [
            "enter the number: 10\n",
            "0123581321345589"
          ]
        }
      ],
      "source": [
        "\n",
        "num=int(input(\"enter the number: \"))\n",
        "a=0\n",
        "b=1\n",
        "print(a, end=\"\")\n",
        "for i in range(1,num+1):\n",
        "    C=a+b\n",
        "    print(C, end=\"\")\n",
        "    a=b\n",
        "    b=C"
      ]
    },
    {
      "cell_type": "markdown",
      "metadata": {
        "id": "fxpiaOXCQJhw"
      },
      "source": [
        "17.\tCreate a program that sums all even numbers from 1 to 100."
      ]
    },
    {
      "cell_type": "code",
      "execution_count": null,
      "metadata": {
        "colab": {
          "base_uri": "https://localhost:8080/"
        },
        "id": "1_XXcLJ7RLGX",
        "outputId": "a627f366-0fe6-4cac-89ce-15150729e3c3"
      },
      "outputs": [
        {
          "name": "stdout",
          "output_type": "stream",
          "text": [
            "Sum of all even numbers from 1 to 100 is: 2550\n"
          ]
        }
      ],
      "source": [
        "sum= 0\n",
        "for num in range(1, 101):\n",
        "    if num % 2 == 0:\n",
        "        sum+= num\n",
        "print(\"Sum of all even numbers from 1 to 100 is:\", sum)\n"
      ]
    },
    {
      "cell_type": "markdown",
      "metadata": {
        "id": "33S806JISBBJ"
      },
      "source": [
        "18.\tWrite a Python script that prints the multiplication table of a user-defined number"
      ]
    },
    {
      "cell_type": "code",
      "execution_count": null,
      "metadata": {
        "colab": {
          "base_uri": "https://localhost:8080/"
        },
        "id": "rR-WgwYESDed",
        "outputId": "5dfbda0d-409b-471b-8863-fedb071d5641"
      },
      "outputs": [
        {
          "name": "stdout",
          "output_type": "stream",
          "text": [
            "Enter a number to print its multiplication table: 5\n",
            "Multiplication table of 5:\n",
            "5 x 1 = 5\n",
            "5 x 2 = 10\n",
            "5 x 3 = 15\n",
            "5 x 4 = 20\n",
            "5 x 5 = 25\n",
            "5 x 6 = 30\n",
            "5 x 7 = 35\n",
            "5 x 8 = 40\n",
            "5 x 9 = 45\n",
            "5 x 10 = 50\n"
          ]
        }
      ],
      "source": [
        "\n",
        "num = int(input(\"Enter a number to print its multiplication table: \"))\n",
        "print(f\"Multiplication table of {num}:\")\n",
        "\n",
        "for i in range(1, 11):\n",
        "    print(f\"{num} x {i} = {num * i}\")\n"
      ]
    },
    {
      "cell_type": "markdown",
      "metadata": {
        "id": "iSaysw5CSso4"
      },
      "source": [
        "19.\tDevelop a program that calculates the factorial of a number using a loop."
      ]
    },
    {
      "cell_type": "code",
      "execution_count": null,
      "metadata": {
        "colab": {
          "base_uri": "https://localhost:8080/"
        },
        "id": "wcHy9HZoSxDx",
        "outputId": "656e27d4-fe47-4fb7-e885-693295c45585"
      },
      "outputs": [
        {
          "name": "stdout",
          "output_type": "stream",
          "text": [
            "Enter a number to calculate its factorial: 12\n",
            "The factorial of 12 is 479001600\n"
          ]
        }
      ],
      "source": [
        "\n",
        "num = int(input(\"Enter a number to calculate its factorial: \"))\n",
        "factorial = 1\n",
        "if num < 0:\n",
        "    print(\"Factorial is not defined for negative numbers.\")\n",
        "else:\n",
        "    for i in range(1, num + 1):\n",
        "        factorial *= i\n",
        "\n",
        "    print(f\"The factorial of {num} is {factorial}\")\n"
      ]
    },
    {
      "cell_type": "markdown",
      "metadata": {
        "id": "Gbu0fq-NWsRk"
      },
      "source": [
        "20.\tCreate a function that lists all prime numbers up to a specified limit."
      ]
    },
    {
      "cell_type": "code",
      "execution_count": null,
      "metadata": {
        "id": "roBXJtxXWssX"
      },
      "outputs": [],
      "source": [
        "def list_primes(limit):\n",
        "    \"\"\"Lists all prime numbers up to a specified limit.\n",
        "    Args:\n",
        "        limit: The upper limit for finding primes.\n",
        "\n",
        "    Returns:\n",
        "        A list of prime numbers up to the limit.\n",
        "    \"\"\"\n",
        "    primes = []\n",
        "    for num in range(2, limit + 1):\n",
        "        is_prime = True\n",
        "        for i in range(2, int(num**0.5) + 1):\n",
        "            if num % i == 0:\n",
        "                is_prime = False\n",
        "                break\n",
        "        if is_prime:\n",
        "            primes.append(num)\n",
        "    return primes\n",
        "\n",
        "limit = 50\n",
        "prime_numbers = list_primes(limit)\n",
        "print(f\"Prime numbers up to {limit}: {prime_numbers}\")"
      ]
    },
    {
      "cell_type": "markdown",
      "metadata": {
        "id": "H0kIPzkFWtgN"
      },
      "source": [
        "21.\tWrite a function that calculates the greatest common divisor (GCD) of two numbers."
      ]
    },
    {
      "cell_type": "code",
      "execution_count": null,
      "metadata": {
        "colab": {
          "base_uri": "https://localhost:8080/"
        },
        "id": "cWSPj74WWgXT",
        "outputId": "f9e4663e-00cb-491b-8289-0422b7b0ff69"
      },
      "outputs": [
        {
          "name": "stdout",
          "output_type": "stream",
          "text": [
            "The Greter Common Divisor of 50 and 10 is 10\n"
          ]
        }
      ],
      "source": [
        "def greter(a, b):\n",
        "    while(b):\n",
        "        a, b = b, a % b\n",
        "    return a\n",
        "num1 = 50\n",
        "num2 = 10\n",
        "result = greter(num1, num2)\n",
        "print(f\"The Greter Common Divisor of {num1} and {num2} is {result}\")"
      ]
    },
    {
      "cell_type": "markdown",
      "metadata": {
        "id": "NUUzjcn-cK8E"
      },
      "source": [
        "22.\tCreate a Python function that takes a list of numbers and returns the largest number"
      ]
    },
    {
      "cell_type": "code",
      "execution_count": null,
      "metadata": {
        "colab": {
          "base_uri": "https://localhost:8080/"
        },
        "id": "mTUyPMABcJWG",
        "outputId": "93a80143-ed38-4951-97d8-6f5a4a404f68"
      },
      "outputs": [
        {
          "name": "stdout",
          "output_type": "stream",
          "text": [
            "The largest number in the list is: 89\n"
          ]
        }
      ],
      "source": [
        "\n",
        "def find_largest(numbers):\n",
        "    return max(numbers)\n",
        "num_list = [10, 45, 23, 67, 12, 89, 34]\n",
        "largest = find_largest(num_list)\n",
        "print(f\"The largest number in the list is: {largest}\")\n"
      ]
    },
    {
      "cell_type": "markdown",
      "metadata": {
        "id": "BXjyYtOKckBz"
      },
      "source": []
    },
    {
      "cell_type": "markdown",
      "metadata": {
        "id": "Kq33-QrJc4VD"
      },
      "source": [
        "23.\tImplement a function for finding the factorial of a number using recursion."
      ]
    },
    {
      "cell_type": "code",
      "execution_count": null,
      "metadata": {
        "colab": {
          "base_uri": "https://localhost:8080/"
        },
        "id": "btJsBv99c-zZ",
        "outputId": "bd096410-6385-4d4f-8247-cd98ecab9d31"
      },
      "outputs": [
        {
          "name": "stdout",
          "output_type": "stream",
          "text": [
            "Enter a number to calculate its factorial: 20\n",
            "The factorial of 20 is 2432902008176640000\n"
          ]
        }
      ],
      "source": [
        "def factorial(n):\n",
        "\n",
        "    if n == 0 or n == 1:\n",
        "        return 1\n",
        "    else:\n",
        "        return n * factorial(n - 1)\n",
        "num = int(input(\"Enter a number to calculate its factorial: \"))\n",
        "result = factorial(num)\n",
        "print(f\"The factorial of {num} is {result}\")\n"
      ]
    },
    {
      "cell_type": "markdown",
      "metadata": {
        "id": "VE9d16qrHi2E"
      },
      "source": [
        "24. 24.\tWrite a program that utilizes global variables and demonstrates their use in functions."
      ]
    },
    {
      "cell_type": "code",
      "execution_count": null,
      "metadata": {
        "colab": {
          "base_uri": "https://localhost:8080/"
        },
        "id": "03KRCPejeE0m",
        "outputId": "98653d12-8d5a-4d25-e05a-f29cf64d5152"
      },
      "outputs": [
        {
          "name": "stdout",
          "output_type": "stream",
          "text": [
            "Global Var:\n",
            "x = 10\n",
            "y = 20\n",
            "x + y = 30\n",
            "x * y = 200\n"
          ]
        }
      ],
      "source": [
        "x = 10\n",
        "y = 20\n",
        "def add_vars():\n",
        "    global result\n",
        "    result = x + y\n",
        "\n",
        "def multiply_var():\n",
        "    global product\n",
        "    product = x * y\n",
        "\n",
        "def main():\n",
        "    print(\"Global Var:\")\n",
        "    print(f\"x = {x}\")\n",
        "    print(f\"y = {y}\")\n",
        "\n",
        "    add_vars() # Changed add_var() to add_vars()\n",
        "    print(f\"x + y = {result}\")\n",
        "\n",
        "    multiply_var()\n",
        "    print(f\"x * y = {product}\")\n",
        "\n",
        "if __name__ == \"__main__\":\n",
        "    main()"
      ]
    },
    {
      "cell_type": "markdown",
      "metadata": {
        "id": "y1Mof-OMgscC"
      },
      "source": [
        "25.\tDevelop a module that contains utility functions for string manipulations."
      ]
    },
    {
      "cell_type": "code",
      "execution_count": null,
      "metadata": {
        "colab": {
          "base_uri": "https://localhost:8080/"
        },
        "id": "5CsSXZ8NgtWj",
        "outputId": "7c71f7a7-85f3-483a-ade1-0813f38b79c8"
      },
      "outputs": [
        {
          "name": "stdout",
          "output_type": "stream",
          "text": [
            "Reversed string: !dlroW ,olleH\n",
            "Number of vowels: 3\n"
          ]
        }
      ],
      "source": [
        "def reverse_string(input_string):\n",
        "    return input_string[::-1]\n",
        "def count_vowels(input_string):\n",
        "    vowels = \"aeiouAEIOU\"\n",
        "    vowel_count = 0\n",
        "    for char in input_string:\n",
        "        if char in vowels:\n",
        "            vowel_count += 1\n",
        "    return vowel_count\n",
        "my_string = \"Hello, World!\"\n",
        "reversed_string = reverse_string(my_string)\n",
        "print(\"Reversed string:\", reversed_string)\n",
        "vowel_count = count_vowels(my_string)\n",
        "print(\"Number of vowels:\", vowel_count)"
      ]
    },
    {
      "cell_type": "markdown",
      "metadata": {
        "id": "LcSIx2TZeO58"
      },
      "source": [
        "26.\tWrite a simple testing script that verifies the functionality of your calculator from a previous assignment."
      ]
    },
    {
      "cell_type": "code",
      "execution_count": null,
      "metadata": {
        "colab": {
          "base_uri": "https://localhost:8080/"
        },
        "id": "a_GchSqvePN8",
        "outputId": "f91d55b4-1392-4122-9879-8f38454c93e3"
      },
      "outputs": [
        {
          "name": "stdout",
          "output_type": "stream",
          "text": [
            "True\n",
            "True\n",
            "True\n",
            "True\n",
            "False\n"
          ]
        }
      ],
      "source": [
        "def calculator(a, b, operation):\n",
        "    if operation == \"+\":\n",
        "        return a + b\n",
        "    elif operation == \"-\":\n",
        "        return a - b\n",
        "    elif operation == \"*\":\n",
        "        return a * b\n",
        "    elif operation == \"/\":\n",
        "        if b == 0:\n",
        "            return \"Division by zero error\"\n",
        "        else:\n",
        "            return a / b\n",
        "    else:\n",
        "        return \"Invalid operation\"\n",
        "\n",
        "# Test cases\n",
        "print(calculator(10, 5, \"+\") == 15)\n",
        "print(calculator(10, 5, \"-\") == 5)\n",
        "print(calculator(10, 5, \"*\") == 50)\n",
        "print(calculator(10, 5, \"/\") == 2)\n",
        "print(calculator(10, 0, \"/\") == 0)"
      ]
    },
    {
      "cell_type": "markdown",
      "metadata": {
        "id": "Y9YGqIlpePdz"
      },
      "source": [
        "27.\tCreate a program that includes debugging statements to show the flow of execution"
      ]
    },
    {
      "cell_type": "code",
      "execution_count": null,
      "metadata": {
        "id": "XDp7M8OEeP3K"
      },
      "outputs": [],
      "source": [
        "import logging\n",
        "logging.basicConfig(level=logging.DEBUG, format='%(asctime)s - %(levelname)s - %(message)s')\n",
        "\n",
        "def function(a, b):\n",
        "    logging.debug(f\"Enter the function with a={a}, b={b}\")\n",
        "    result = a + b\n",
        "    logging.debug(f\"Calculated result: {result}\")\n",
        "    return result\n",
        "\n",
        "def main():\n",
        "    logging.debug(\"Starting the program\")\n",
        "    x = 10\n",
        "    y = 5\n",
        "    logging.debug(f\"Calling function with x={x}, y={y}\")\n",
        "    z = function(x, y)\n",
        "    logging.debug(f\"Result from function: {z}\")\n",
        "    logging.debug(\"Ending the program\")\n",
        "\n",
        "if __name__ == \"__main__\":\n",
        "    main()"
      ]
    },
    {
      "cell_type": "markdown",
      "metadata": {
        "id": "mra7-av1eQG9"
      },
      "source": [
        "28.\tImplement a function and write unit tests to confirm its correctness using assertions."
      ]
    },
    {
      "cell_type": "code",
      "execution_count": null,
      "metadata": {
        "id": "sL-_vF6jeQWx"
      },
      "outputs": [],
      "source": [
        "def is_prime(n):\n",
        "\n",
        "    if n <= 1:\n",
        "        return False\n",
        "    for i in range(2, int(n**0.5) + 1):\n",
        "            return False\n",
        "    return True\n"
      ]
    },
    {
      "cell_type": "markdown",
      "metadata": {
        "id": "sISCTOzYx-FQ"
      },
      "source": [
        "29.Create a logging system that tracks function calls and their parameters."
      ]
    },
    {
      "cell_type": "code",
      "execution_count": null,
      "metadata": {
        "id": "bdyoJ-CjzNdc"
      },
      "outputs": [],
      "source": [
        "import logging\n",
        "import inspect\n",
        "\n",
        "def log_function_call(func):\n",
        "    \"\"\"Decorator to log function calls and their parameters.\"\"\"\n",
        "    def wrapper(*args, **kwargs):\n",
        "        \"\"\"Wrapper function to execute the original function and log details.\"\"\"\n",
        "\n",
        "        func_name = func.__name__\n",
        "        func_args = inspect.signature(func).bind(*args, **kwargs).arguments\n",
        "\n",
        "        logging.info(f\"Calling function: {func_name} with args: {func_args}\")\n",
        "\n",
        "        result = func(*args, **kwargs)\n",
        "\n",
        "        logging.info(f\"Function {func_name} returned: {result}\")\n",
        "\n",
        "        return result\n",
        "    return wrapper\n",
        "logging.basicConfig(level=logging.INFO,\n",
        "                    format='%(asctime)s - %(levelname)s - %(message)s')\n",
        "\n",
        "@log_function_call\n",
        "def my_function(a, b):\n",
        "    \"\"\"Example function to demonstrate logging.\"\"\"\n",
        "    return a + b\n",
        "result = my_function(10, 5)"
      ]
    },
    {
      "cell_type": "markdown",
      "metadata": {
        "id": "RdFd-zIgRVXk"
      },
      "source": [
        "30.\tCreate a logging system that tracks function calls and their parameters"
      ]
    },
    {
      "cell_type": "code",
      "execution_count": null,
      "metadata": {
        "id": "QD8cwyz1RV4Y"
      },
      "outputs": [],
      "source": [
        "import logging\n",
        "import inspect\n",
        "\n",
        "def log_function_call(func):\n",
        "    \"\"\"Decorator to log function calls and their parameters.\"\"\"\n",
        "    def wrapper(*args, **kwargs):\n",
        "        \"\"\"Wrapper function to execute the original function and log details.\"\"\"\n",
        "\n",
        "        func_name = func.__name__\n",
        "        func_args = inspect.signature(func).bind(*args, **kwargs).arguments\n",
        "        logging.info(f\"Calling function: {func_name} with args: {func_args}\")\n",
        "        result = func(*args, **kwargs)\n",
        "        logging.info(f\"Function {func_name} returned: {result}\")\n",
        "\n",
        "        return result\n",
        "    return wrapper\n",
        "logging.basicConfig(filename='function_calls.log', level=logging.INFO,\n",
        "                    format='%(asctime)s - %(levelname)s - %(message)s')\n",
        "\n",
        "@log_function_call\n",
        "def my_function(a, b):\n",
        "    \"\"\"Example function to demonstrate logging.\"\"\"\n",
        "    return a + b\n",
        "\n",
        "result = my_function(10, 5)"
      ]
    },
    {
      "cell_type": "markdown",
      "metadata": {
        "id": "JL2c-NfiRWJR"
      },
      "source": [
        "31.\tWrite a Python script to demonstrate the usage of tuples for storing coordinates"
      ]
    },
    {
      "cell_type": "code",
      "execution_count": null,
      "metadata": {
        "colab": {
          "base_uri": "https://localhost:8080/"
        },
        "id": "kNz8OXg7RWXV",
        "outputId": "7cc1f1b6-1d3b-4f63-fba5-d47884c84a68"
      },
      "outputs": [
        {
          "name": "stdout",
          "output_type": "stream",
          "text": [
            "Point 1: (2, 3)\n",
            "Point 2: (5, 7)\n",
            "Distance between Point 1 and Point 2: 5.00\n"
          ]
        }
      ],
      "source": [
        "def main():\n",
        "    \"\"\"Demonstrates the usage of tuples for storing coordinates.\"\"\"\n",
        "\n",
        "\n",
        "    point1 = (2, 3)\n",
        "    point2 = (5, 7)\n",
        "    x1, y1 = point1\n",
        "    x2, y2 = point2\n",
        "\n",
        "    print(f\"Point 1: ({x1}, {y1})\")\n",
        "    print(f\"Point 2: ({x2}, {y2})\")\n",
        "\n",
        "    distance = ((x2 - x1)**2 + (y2 - y1)**2)**0.5\n",
        "    print(f\"Distance between Point 1 and Point 2: {distance:.2f}\")\n",
        "if __name__ == \"__main__\":\n",
        "    main()"
      ]
    },
    {
      "cell_type": "markdown",
      "metadata": {
        "id": "AR29Owr4RWlp"
      },
      "source": [
        "32.\tCreate a program that uses lists and demonstrates mutability by modifying the list items"
      ]
    },
    {
      "cell_type": "code",
      "execution_count": null,
      "metadata": {
        "colab": {
          "base_uri": "https://localhost:8080/"
        },
        "id": "sI03seeeRWyY",
        "outputId": "c7369acd-1e7a-46c0-d282-0836228de4ac"
      },
      "outputs": [
        {
          "name": "stdout",
          "output_type": "stream",
          "text": [
            "Modified list: [10, 15, 2, 20, 30, 5, 40]\n"
          ]
        }
      ],
      "source": [
        "def main():\n",
        "    \"\"\"Demonstrates list mutability by modifying list items.\"\"\"\n",
        "\n",
        "    my_list = [1, 2, 3, 4, 5]\n",
        "\n",
        "    my_list[0] = 10\n",
        "    my_list[2:4] = [20, 30]\n",
        "    my_list.append(40)\n",
        "    my_list.insert(1, 15)\n",
        "    print(\"Modified list:\", my_list)\n",
        "if __name__ == \"__main__\":\n",
        "    main()"
      ]
    },
    {
      "cell_type": "markdown",
      "metadata": {
        "id": "HQbBndG-8cvw"
      },
      "source": [
        "33.\tImplement a higher-order function that takes another function as an argument and applies it to a list."
      ]
    },
    {
      "cell_type": "code",
      "execution_count": null,
      "metadata": {
        "colab": {
          "base_uri": "https://localhost:8080/"
        },
        "id": "E4cziWlA8c-S",
        "outputId": "4461db9c-8f46-453b-ff4a-6b16aab37867"
      },
      "outputs": [
        {
          "name": "stdout",
          "output_type": "stream",
          "text": [
            "Original numbers: [1, 2, 3, 4, 5]\n",
            "Squared numbers: [1, 4, 9, 16, 25]\n"
          ]
        }
      ],
      "source": [
        "def apply_function_to_list(func, data_list):\n",
        "    \"\"\"Applies a given function to each element of a list.\n",
        "    Args:\n",
        "        func: The function to apply.\n",
        "        data_list: The list of data to process.\n",
        "    Returns:\n",
        "        A new list containing the results of applying the function to each element.\n",
        "    \"\"\"\n",
        "    return [func(item) for item in data_list]\n",
        "def square(x):\n",
        "    return x * x\n",
        "numbers = [1, 2, 3, 4, 5]\n",
        "squared_numbers = apply_function_to_list(square, numbers)\n",
        "\n",
        "print(\"Original numbers:\", numbers)\n",
        "print(\"Squared numbers:\", squared_numbers)"
      ]
    },
    {
      "cell_type": "markdown",
      "metadata": {
        "id": "1kPuE1Ld8dL0"
      },
      "source": [
        "34.\tWrite a program to simulate a simple inventory system using dictionaries."
      ]
    },
    {
      "cell_type": "code",
      "execution_count": null,
      "metadata": {
        "colab": {
          "background_save": true,
          "base_uri": "https://localhost:8080/"
        },
        "id": "6Sztj29G8dZG",
        "outputId": "e31a4269-3863-4659-d2a0-35500c1b2452"
      },
      "outputs": [
        {
          "name": "stdout",
          "output_type": "stream",
          "text": [
            "\n",
            "Current Inventory:\n",
            "apple: 50\n",
            "banana: 30\n",
            "orange: 25\n",
            "\n",
            "Current Inventory:\n",
            "apple: 50\n",
            "banana: 70\n",
            "orange: 25\n"
          ]
        }
      ],
      "source": [
        "def main():\n",
        "    \"\"\"Simulates a simple inventory system using a dictionary.\"\"\"\n",
        "\n",
        "    inventory = {}\n",
        "    inventory[\"apple\"] = 50\n",
        "    inventory[\"banana\"] = 30\n",
        "    inventory[\"orange\"] = 25\n",
        "\n",
        "    while True:\n",
        "        print(\"\\nCurrent Inventory:\")\n",
        "        for item, quantity in inventory.items():\n",
        "            print(f\"{item}: {quantity}\")\n",
        "\n",
        "        action = input(\"\\nEnter action (add/remove/check/quit): \").lower()\n",
        "\n",
        "        if action == \"add\":\n",
        "            item = input(\"Enter item name: \")\n",
        "            quantity = int(input(\"Enter quantity to add: \"))\n",
        "            inventory[item] = inventory.get(item, 0) + quantity\n",
        "        elif action == \"remove\":\n",
        "            item = input(\"Enter item name: \")\n",
        "            quantity = int(input(\"Enter quantity to remove: \"))\n",
        "            if item in inventory and inventory[item] >= quantity:\n",
        "                inventory[item] -= quantity\n",
        "            else:\n",
        "                print(\"Invalid item or insufficient quantity.\")\n",
        "        elif action == \"check\":\n",
        "            item = input(\"Enter item name: \")\n",
        "            quantity = inventory.get(item, 0)\n",
        "            print(f\"Quantity of {item}: {quantity}\")\n",
        "        elif action == \"quit\":\n",
        "            break\n",
        "        else:\n",
        "            print(\"Invalid action. Please try again.\")\n",
        "\n",
        "if __name__ == \"__main__\":\n",
        "    main()"
      ]
    },
    {
      "cell_type": "markdown",
      "metadata": {
        "id": "_UOAo0NW9_e4"
      },
      "source": [
        "35.\tCreate a function that sorts a list of dictionaries by a specified key."
      ]
    },
    {
      "cell_type": "code",
      "execution_count": null,
      "metadata": {
        "id": "zoueQo-L-SkA"
      },
      "outputs": [],
      "source": [
        "def sort_dictionaries_by_key(list_of_dictionaries, key):\n",
        "    \"\"\"Sorts a list of dictionaries based on the values of a specified key.\n",
        "\n",
        "    Args:\n",
        "        list_of_dictionaries: The list of dictionaries to be sorted.\n",
        "        key: The key to sort by.\n",
        "\n",
        "    Returns:\n",
        "        A new list containing the sorted dictionaries.\n",
        "    \"\"\"\n",
        "    return sorted(list_of_dictionaries, key=lambda item: item[key])\n",
        "\n",
        "data = [\n",
        "    {'name': 'Alice', 'age': 30},\n",
        "    {'name': 'Bob', 'age': 25},\n",
        "    {'name': 'Charlie', 'age': 35}\n",
        "]\n",
        "\n",
        "sorted_data_by_age = sort_dictionaries_by_key(data, 'age')\n",
        "print(\"Sorted by age:\", sorted_data_by_age)\n",
        "\n",
        "sorted_data_by_name = sort_dictionaries_by_key(data, 'name')\n",
        "print(\"Sorted by name:\", sorted_data_by_name)"
      ]
    },
    {
      "cell_type": "markdown",
      "metadata": {
        "id": "W6x2E7SO--Ct"
      },
      "source": [
        "36.\tWrite a program that reads a file and handles exceptions if the file does not exist."
      ]
    },
    {
      "cell_type": "code",
      "execution_count": null,
      "metadata": {
        "id": "GYKZ_d_l_CWG"
      },
      "outputs": [],
      "source": [
        "def read_file(filename):\n",
        "    \"\"\"Reads the contents of a file and handles FileNotFoundError.\n",
        "\n",
        "    Args:\n",
        "        filename: The name of the file to read.\n",
        "\n",
        "    Returns:\n",
        "        The contents of the file if found, otherwise an error message.\n",
        "    \"\"\"\n",
        "    try:\n",
        "        with open(filename, 'r') as file:\n",
        "            contents = file.read()\n",
        "            return contents\n",
        "    except FileNotFoundError:\n",
        "        return f\"Error: File '{filename}' not found.\"\n",
        "\n",
        "filename = \"my_file.txt\"\n",
        "file_contents = read_file(filename)\n",
        "\n",
        "if \"Error:\" in file_contents:\n",
        "    print(file_contents)\n",
        "else:\n",
        "    print(f\"File contents:\\n{file_contents}\")"
      ]
    },
    {
      "cell_type": "markdown",
      "metadata": {
        "id": "Z_NzBc2K0jvC"
      },
      "source": [
        "37.\tCreate a function that raises an exception if the input is not a positive number"
      ]
    },
    {
      "cell_type": "code",
      "execution_count": null,
      "metadata": {
        "id": "4ad_76oPPeMJ"
      },
      "outputs": [],
      "source": [
        "def ensure_positive(number):\n",
        "    \"\"\"Raises a ValueError if the input is not a positive number.\"\"\"\n",
        "    if number <= 0:\n",
        "        raise ValueError(\"Input must be a positive number.\")\n",
        "    return number\n"
      ]
    },
    {
      "cell_type": "markdown",
      "metadata": {
        "id": "gHAHsSBE0ygE"
      },
      "source": [
        "38.\tImplement a program that uses assertions to check the validity of user input."
      ]
    },
    {
      "cell_type": "code",
      "execution_count": null,
      "metadata": {
        "colab": {
          "base_uri": "https://localhost:8080/"
        },
        "id": "eNdRJQYqB3fg",
        "outputId": "ce49cb9c-9806-4e92-a404-5d2ef349b888"
      },
      "outputs": [
        {
          "name": "stdout",
          "output_type": "stream",
          "text": [
            "Enter the length of the rectangle: 10\n",
            "Enter the width of the rectangle: 20\n",
            "The area of the rectangle is: 200.0\n"
          ]
        }
      ],
      "source": [
        "def calculate_area(length, width):\n",
        "\n",
        "    assert length > 0, \"Length must be positive\"\n",
        "    assert width > 0, \"Width must be positive\"\n",
        "    return length * width\n",
        "length = float(input(\"Enter the length of the rectangle: \"))\n",
        "width = float(input(\"Enter the width of the rectangle: \"))\n",
        "try:\n",
        "    area = calculate_area(length, width)\n",
        "    print(f\"The area of the rectangle is: {area}\")\n",
        "except AssertionError as e:\n",
        "    print(f\"Error: {e}\")"
      ]
    },
    {
      "cell_type": "markdown",
      "metadata": {
        "id": "rinyIVxx03dG"
      },
      "source": [
        "39.\tWrite a function to demonstrate the use of try-except blocks when dividing numbers"
      ]
    },
    {
      "cell_type": "code",
      "execution_count": null,
      "metadata": {
        "colab": {
          "base_uri": "https://localhost:8080/"
        },
        "id": "_hq6XGGJ05Ah",
        "outputId": "6c8a1506-8ba0-4c32-810b-fa5cd22fcfb5"
      },
      "outputs": [
        {
          "name": "stderr",
          "output_type": "stream",
          "text": [
            "ERROR:root:An error occurred: division by zero\n",
            "Traceback (most recent call last):\n",
            "  File \"<ipython-input-2-d7d81a7f61fa>\", line 6, in divide\n",
            "    result = x / y\n",
            "ZeroDivisionError: division by zero\n",
            "ERROR:root:An error occurred: unsupported operand type(s) for /: 'int' and 'str'\n",
            "Traceback (most recent call last):\n",
            "  File \"<ipython-input-2-d7d81a7f61fa>\", line 6, in divide\n",
            "    result = x / y\n",
            "TypeError: unsupported operand type(s) for /: 'int' and 'str'\n"
          ]
        },
        {
          "name": "stdout",
          "output_type": "stream",
          "text": [
            "5.0\n",
            "None\n",
            "None\n"
          ]
        }
      ],
      "source": [
        "import logging\n",
        "logging.basicConfig(filename='math_errors.log', level=logging.ERROR,\n",
        "                    format='%(asctime)s - %(levelname)s - %(message)s')\n",
        "def divide(x, y):\n",
        "    try:\n",
        "        result = x / y\n",
        "    except (ZeroDivisionError, TypeError) as e:\n",
        "        logging.exception(f\"An error occurred: {e}\")\n",
        "\n",
        "    else:\n",
        "        return result\n",
        "\n",
        "if __name__ == \"__main__\":\n",
        "\n",
        "    print(divide(10, 2))\n",
        "    print(divide(10, 0))\n",
        "    print(divide(10, 'a'))"
      ]
    },
    {
      "cell_type": "markdown",
      "metadata": {
        "id": "7Acgw47Q05t0"
      },
      "source": [
        "40.\tCreate a program that captures and logs exceptions thrown in a mathematical computation."
      ]
    },
    {
      "cell_type": "code",
      "execution_count": null,
      "metadata": {
        "colab": {
          "base_uri": "https://localhost:8080/"
        },
        "id": "g13B_gOS09aC",
        "outputId": "c3afaddc-ae98-43a0-d97e-1c002e8b5f6b"
      },
      "outputs": [
        {
          "name": "stderr",
          "output_type": "stream",
          "text": [
            "ERROR:root:An error occurred during computation: division by zero\n",
            "Traceback (most recent call last):\n",
            "  File \"<ipython-input-19-cf481103a5e3>\", line 15, in perform_computation\n",
            "    result = a / b\n",
            "ZeroDivisionError: division by zero\n",
            "ERROR:root:An error occurred during computation: Invalid operation provided.\n",
            "Traceback (most recent call last):\n",
            "  File \"<ipython-input-19-cf481103a5e3>\", line 17, in perform_computation\n",
            "    raise ValueError(\"Invalid operation provided.\")\n",
            "ValueError: Invalid operation provided.\n"
          ]
        },
        {
          "name": "stdout",
          "output_type": "stream",
          "text": [
            "Result 1: 15\n",
            "Result 2: None\n",
            "Result 3: aaaaaaaaaa\n",
            "Result 4: None\n"
          ]
        }
      ],
      "source": [
        "import logging\n",
        "logging.basicConfig(filename='math_errors.log', level=logging.ERROR,\n",
        "                    format='%(asctime)s - %(levelname)s - %(message)s')\n",
        "\n",
        "def perform_computation(a, b, operation):\n",
        "    \"\"\"Performs a mathematical computation and logs any exceptions.\"\"\"\n",
        "    try:\n",
        "        if operation == '+':\n",
        "            result = a + b\n",
        "        elif operation == '-':\n",
        "            result = a - b\n",
        "        elif operation == '*':\n",
        "            result = a * b\n",
        "        elif operation == '/':\n",
        "            result = a / b\n",
        "        else:\n",
        "            raise ValueError(\"Invalid operation provided.\")\n",
        "        return result\n",
        "    except (ZeroDivisionError, TypeError, ValueError) as e:\n",
        "\n",
        "        logging.exception(f\"An error occurred during computation: {e}\")\n",
        "        return None\n",
        "if __name__ == \"__main__\":\n",
        "\n",
        "    result1 = perform_computation(10, 5, '+')\n",
        "    print(f\"Result 1: {result1}\")\n",
        "\n",
        "    result2 = perform_computation(10, 0, '/')\n",
        "    print(f\"Result 2: {result2}\")\n",
        "    result3 = perform_computation(10, 'a', '*')\n",
        "    print(f\"Result 3: {result3}\")\n",
        "    result4 = perform_computation(10, 5, '$')\n",
        "    print(f\"Result 4: {result4}\")"
      ]
    },
    {
      "cell_type": "markdown",
      "metadata": {
        "id": "hvTGfXT4B7xk"
      },
      "source": [
        "41.\tDefine a class for a Rectangle that calculates the area and perimeter."
      ]
    },
    {
      "cell_type": "code",
      "execution_count": null,
      "metadata": {
        "id": "wnqT8ly4DNz5"
      },
      "outputs": [],
      "source": [
        "class rectangle:\n",
        "  def _init_(self,lenght,width):\n",
        "    self.lenght=lenght\n",
        "    self.width=width\n",
        "  def area(self):\n",
        "    return self.lenght*self.width\n",
        "    def perimeter(self):\n",
        "      return 2*(self.length+self.width)"
      ]
    },
    {
      "cell_type": "markdown",
      "metadata": {
        "id": "rsWkfcVLB8cx"
      },
      "source": [
        "42.\tCreate a class that models a BankAccount with methods to deposit and withdraw funds."
      ]
    },
    {
      "cell_type": "code",
      "execution_count": null,
      "metadata": {
        "colab": {
          "base_uri": "https://localhost:8080/"
        },
        "id": "Ceh0-hn6B8wV",
        "outputId": "12f16956-0c1c-45a9-f3a6-7ec77050ed41"
      },
      "outputs": [
        {
          "name": "stdout",
          "output_type": "stream",
          "text": [
            "Deposited $500.00. New balance: $1500.00\n",
            "Withdrew $200.00. New balance: $1300.00\n",
            "Current balance: $1300.00\n"
          ]
        }
      ],
      "source": [
        "class BankAccount:\n",
        "    def __init__(self, account_number, initial_balance=0):\n",
        "        self.account_number = account_number\n",
        "        self.balance = initial_balance\n",
        "\n",
        "    def deposit(self, amount):\n",
        "        \"\"\"Deposits funds into the account.\"\"\"\n",
        "        if amount > 0:\n",
        "            self.balance += amount\n",
        "            print(f\"Deposited ${amount:.2f}. New balance: ${self.balance:.2f}\")\n",
        "        else:\n",
        "            print(\"Invalid deposit amount. Amount must be positive.\")\n",
        "\n",
        "    def withdraw(self, amount):\n",
        "        \"\"\"Withdraws funds from the account.\"\"\"\n",
        "        if amount > 0:\n",
        "            if self.balance >= amount:\n",
        "                self.balance -= amount\n",
        "                print(f\"Withdrew ${amount:.2f}. New balance: ${self.balance:.2f}\")\n",
        "            else:\n",
        "                print(\"Insufficient funds.\")\n",
        "        else:\n",
        "            print(\"Invalid withdrawal amount. Amount must be positive.\")\n",
        "\n",
        "    def get_balance(self):\n",
        "        \"\"\"Returns the current account balance.\"\"\"\n",
        "        return self.balance\n",
        "\n",
        "account = BankAccount(\"1234567890\", 1000)\n",
        "account.deposit(500)\n",
        "account.withdraw(200)\n",
        "print(f\"Current balance: ${account.get_balance():.2f}\")"
      ]
    },
    {
      "cell_type": "markdown",
      "metadata": {
        "id": "7TVHHbAUB9Af"
      },
      "source": [
        "43.\tImplement inheritance by creating a Circle class that inherits from a Shape class."
      ]
    },
    {
      "cell_type": "code",
      "execution_count": null,
      "metadata": {
        "colab": {
          "base_uri": "https://localhost:8080/"
        },
        "id": "FTLNWbHQB9R-",
        "outputId": "96f132d3-0e04-45d8-8ce1-db245664fe5e"
      },
      "outputs": [
        {
          "name": "stdout",
          "output_type": "stream",
          "text": [
            "Color: red\n",
            "Area: 78.54\n",
            "Circumference: 31.42\n"
          ]
        }
      ],
      "source": [
        "import math\n",
        "class Shape:\n",
        "    def __init__(self, color=\"black\"):\n",
        "        self.color = color\n",
        "\n",
        "    def get_color(self):\n",
        "        return self.color\n",
        "\n",
        "class Circle(Shape):\n",
        "    def __init__(self, radius, color=\"black\"):\n",
        "        super().__init__(color)\n",
        "        self.radius = radius\n",
        "\n",
        "    def get_area(self):\n",
        "        return math.pi * self.radius**2\n",
        "\n",
        "    def get_circumference(self):\n",
        "        return 2 * math.pi * self.radius\n",
        "circle = Circle(5, \"red\")\n",
        "print(f\"Color: {circle.get_color()}\")\n",
        "print(f\"Area: {circle.get_area():.2f}\")\n",
        "print(f\"Circumference: {circle.get_circumference():.2f}\")\n"
      ]
    },
    {
      "cell_type": "markdown",
      "metadata": {
        "id": "tPfj7gC81hz9"
      },
      "source": [
        "44.\tWrite a program that demonstrates encapsulation through private class members."
      ]
    },
    {
      "cell_type": "code",
      "execution_count": null,
      "metadata": {
        "colab": {
          "base_uri": "https://localhost:8080/"
        },
        "id": "D5mnBKvsB-PW",
        "outputId": "889a80f1-a424-4a77-b44c-210a344d19e3"
      },
      "outputs": [
        {
          "name": "stdout",
          "output_type": "stream",
          "text": [
            "Make: Toyota\n",
            "Model: Camry\n",
            "Year: 2023\n",
            "Year (after update): 2024\n"
          ]
        }
      ],
      "source": [
        "class Car:\n",
        "    def __init__(self, make, model, year):\n",
        "        self.__make = make  # Private member\n",
        "        self.__model = model  # Private member\n",
        "        self.__year = year  # Private member\n",
        "\n",
        "    def get_make(self):\n",
        "        return self.__make\n",
        "\n",
        "    def get_model(self):\n",
        "        return self.__model\n",
        "\n",
        "    def get_year(self):\n",
        "        return self.__year\n",
        "\n",
        "    def set_make(self, make):\n",
        "        self.__make = make\n",
        "\n",
        "    def set_model(self, model):\n",
        "        self.__model = model\n",
        "\n",
        "    def set_year(self, year):\n",
        "        self.__year = year\n",
        "my_car = Car(\"Toyota\", \"Camry\", 2023)\n",
        "\n",
        "print(f\"Make: {my_car.get_make()}\")\n",
        "print(f\"Model: {my_car.get_model()}\")\n",
        "print(f\"Year: {my_car.get_year()}\")\n",
        "my_car.set_year(2024)\n",
        "print(f\"Year (after update): {my_car.get_year()}\")"
      ]
    },
    {
      "cell_type": "markdown",
      "metadata": {
        "id": "FHvpcLDiD7cs"
      },
      "source": [
        "45.\tCreate an abstract class Animal with subclasses for Dog and Cat."
      ]
    },
    {
      "cell_type": "code",
      "execution_count": null,
      "metadata": {
        "colab": {
          "base_uri": "https://localhost:8080/"
        },
        "id": "pJLoDUNPD73v",
        "outputId": "ca03b7e3-1420-4c65-a16b-c210ae4bbdff"
      },
      "outputs": [
        {
          "name": "stdout",
          "output_type": "stream",
          "text": [
            "Buddy says: Woof!\n",
            "Whiskers says: Meow!\n"
          ]
        }
      ],
      "source": [
        "from abc import ABC, abstractmethod\n",
        "class Animal(ABC):\n",
        "    def __init__(self, name):\n",
        "        self.name = name\n",
        "    @abstractmethod\n",
        "    def make_sound(self):\n",
        "        pass\n",
        "\n",
        "class Dog(Animal):\n",
        "    def make_sound(self):\n",
        "        return \"Woof!\"\n",
        "\n",
        "class Cat(Animal):\n",
        "    def make_sound(self):\n",
        "        return \"Meow!\"\n",
        "\n",
        "dog = Dog(\"Buddy\")\n",
        "cat = Cat(\"Whiskers\")\n",
        "\n",
        "print(f\"{dog.name} says: {dog.make_sound()}\")\n",
        "print(f\"{cat.name} says: {cat.make_sound()}\")"
      ]
    },
    {
      "cell_type": "markdown",
      "metadata": {
        "id": "Ax4EQeNoD8G4"
      },
      "source": [
        "46.\tImplement a binary search algorithm on a sorted list of numbers"
      ]
    },
    {
      "cell_type": "code",
      "execution_count": null,
      "metadata": {
        "colab": {
          "base_uri": "https://localhost:8080/"
        },
        "id": "KbnopwUUD8XA",
        "outputId": "bfa8b2f5-96fb-4aff-9f55-2c0cb1bb2fb1"
      },
      "outputs": [
        {
          "name": "stdout",
          "output_type": "stream",
          "text": [
            "Target value 11 found at index 4\n"
          ]
        }
      ],
      "source": [
        "def binary_search(arr, target):\n",
        "    low = 0\n",
        "    high = len(arr) - 1\n",
        "\n",
        "    while low <= high:\n",
        "        mid = (low + high) // 2\n",
        "\n",
        "        if arr[mid] == target:\n",
        "            return mid\n",
        "        elif arr[mid] < target:\n",
        "            low = mid + 1\n",
        "        else:\n",
        "            high = mid - 1\n",
        "\n",
        "    return -1\n",
        "numbers = [2, 5, 7, 8, 11, 12]\n",
        "target_value = 11\n",
        "\n",
        "index = binary_search(numbers, target_value)\n",
        "\n",
        "if index != -1:\n",
        "    print(f\"Target value {target_value} found at index {index}\")\n",
        "else:\n",
        "    print(f\"Target value {target_value} not found in the list\")"
      ]
    },
    {
      "cell_type": "markdown",
      "metadata": {
        "id": "WBo6-Dw9EiR1"
      },
      "source": [
        "47.\tWrite a sorting algorithm (e.g., bubble sort) and test its functionality."
      ]
    },
    {
      "cell_type": "code",
      "execution_count": null,
      "metadata": {
        "colab": {
          "base_uri": "https://localhost:8080/"
        },
        "id": "1uJRHwyzEir7",
        "outputId": "93edbe2b-6dff-4bf5-9006-be67333ae223"
      },
      "outputs": [
        {
          "name": "stdout",
          "output_type": "stream",
          "text": [
            "Unsorted array: [64, 34, 25, 12, 22, 11, 90]\n",
            "Sorted array: [11, 12, 22, 25, 34, 64, 90]\n"
          ]
        }
      ],
      "source": [
        "def bubble_sort(arr):\n",
        "    \"\"\"Sorts a list using the Bubble Sort algorithm.\n",
        "\n",
        "    Args:\n",
        "        arr: The list to be sorted.\n",
        "    \"\"\"\n",
        "    n = len(arr)\n",
        "    for i in range(n):\n",
        "        swapped = False\n",
        "        for j in range(0, n - i - 1):\n",
        "\n",
        "            if arr[j] > arr[j + 1]:\n",
        "                arr[j], arr[j + 1] = arr[j + 1], arr[j]\n",
        "                swapped = True\n",
        "        if not swapped:\n",
        "            break\n",
        "numbers = [64, 34, 25, 12, 22, 11, 90]\n",
        "\n",
        "print(\"Unsorted array:\", numbers)\n",
        "bubble_sort(numbers)\n",
        "print(\"Sorted array:\", numbers)"
      ]
    },
    {
      "cell_type": "markdown",
      "metadata": {
        "id": "XIRLPAbEEjBv"
      },
      "source": [
        "48.\tCreate a program that utilizes a hashtable to store and retrieve key-value pairs."
      ]
    },
    {
      "cell_type": "code",
      "execution_count": null,
      "metadata": {
        "colab": {
          "base_uri": "https://localhost:8080/"
        },
        "id": "fBdQPCMnEjU_",
        "outputId": "30254341-7ea0-4b89-db6a-385c615070cf"
      },
      "outputs": [
        {
          "name": "stdout",
          "output_type": "stream",
          "text": [
            "Value for 'apple': 1\n",
            "Value for 'banana': 2\n",
            "Value for 'grape': Not found\n",
            "Key 'orange' exists in the hashtable\n",
            "\n",
            "Hashtable contents:\n",
            "apple: 1\n",
            "banana: 2\n",
            "orange: 3\n"
          ]
        }
      ],
      "source": [
        "def main():\n",
        "  hashtable = {}\n",
        "    hashtable[\"apple\"] = 1\n",
        "    hashtable[\"banana\"] = 2\n",
        "    hashtable[\"orange\"] = 3\n",
        "\n",
        "    print(f\"Value for 'apple': {hashtable.get('apple')}\")\n",
        "    print(f\"Value for 'banana': {hashtable.get('banana')}\")\n",
        "    print(f\"Value for 'grape': {hashtable.get('grape', 'Not found')}\")\n",
        "    if \"orange\" in hashtable:\n",
        "        print(\"Key 'orange' exists in the hashtable\")\n",
        "\n",
        "    print(\"\\nHashtable contents:\")\n",
        "    for key, value in hashtable.items():\n",
        "        print(f\"{key}: {value}\")\n",
        "\n",
        "if __name__ == \"__main__\":\n",
        "    main()"
      ]
    },
    {
      "cell_type": "markdown",
      "metadata": {
        "id": "Gwi1Rr0kEy0A"
      },
      "source": [
        "49.\tDevelop a function that sorts a list of dictionaries based on the values of a specific key"
      ]
    },
    {
      "cell_type": "code",
      "execution_count": null,
      "metadata": {
        "colab": {
          "base_uri": "https://localhost:8080/"
        },
        "id": "cE1i7v0-Ez2W",
        "outputId": "4efa6777-b513-4363-a29e-512d8a5a3f8e"
      },
      "outputs": [
        {
          "name": "stdout",
          "output_type": "stream",
          "text": [
            "{'name': 'Bob', 'age': 25}\n",
            "{'name': 'Alice', 'age': 30}\n",
            "{'name': 'Charlie', 'age': 35}\n"
          ]
        }
      ],
      "source": [
        "def sort_list_of_dictionaries(list_of_dictionaries, key):\n",
        "    return sorted(list_of_dictionaries, key=lambda dictionary: dictionary[key])\n",
        "\n",
        "data = [\n",
        "    {'name': 'Alice', 'age': 30},\n",
        "    {'name': 'Bob', 'age': 25},\n",
        "    {'name': 'Charlie', 'age': 35}\n",
        "]\n",
        "\n",
        "sorted_data = sort_list_of_dictionaries(data, 'age')\n",
        "\n",
        "for item in sorted_data:\n",
        "    print(item)"
      ]
    },
    {
      "cell_type": "markdown",
      "metadata": {
        "id": "niLlhkcTFA12"
      },
      "source": [
        "50.\tWrite a program that implements a breadth-first search for a graph structure"
      ]
    },
    {
      "cell_type": "code",
      "execution_count": null,
      "metadata": {
        "colab": {
          "base_uri": "https://localhost:8080/"
        },
        "id": "ZqNInDzbFG5Y",
        "outputId": "1d333783-53ff-425d-eb2a-5554f3594e45"
      },
      "outputs": [
        {
          "name": "stdout",
          "output_type": "stream",
          "text": [
            "Breadth-First Search Traversal: ['A', 'B', 'C', 'D', 'E', 'F']\n"
          ]
        }
      ],
      "source": [
        "from collections import deque\n",
        "\n",
        "def breadth_first_search(graph, start_node):\n",
        "    visited = set()\n",
        "    queue = deque([start_node])\n",
        "    traversal_order = []\n",
        "\n",
        "    while queue:\n",
        "        node = queue.popleft()\n",
        "\n",
        "        if node not in visited:\n",
        "            visited.add(node)\n",
        "            traversal_order.append(node)\n",
        "            queue.extend(neighbor for neighbor in graph[node] if neighbor not in visited)\n",
        "\n",
        "    return traversal_order\n",
        "\n",
        "graph = {\n",
        "    'A': ['B', 'C'],\n",
        "    'B': ['D', 'E'],\n",
        "    'C': ['F'],\n",
        "    'D': [],\n",
        "    'E': ['F'],\n",
        "    'F': []\n",
        "}\n",
        "\n",
        "traversal = breadth_first_search(graph, 'A')\n",
        "\n",
        "print(\"Breadth-First Search Traversal:\", traversal)"
      ]
    },
    {
      "cell_type": "markdown",
      "metadata": {
        "id": "owHyHE_mAXQs"
      },
      "source": [
        "51.\tUse Matplotlib to plot a simple line graph representing a mathematical function."
      ]
    },
    {
      "cell_type": "code",
      "execution_count": null,
      "metadata": {
        "colab": {
          "base_uri": "https://localhost:8080/",
          "height": 472
        },
        "id": "1ayk4d7dAXjE",
        "outputId": "52fa95ff-90eb-4b74-b80d-f59aaaf2c0af"
      },
      "outputs": [
        {
          "data": {
            "image/png": "[encoded data removed]",
            "text/plain": [
              "<Figure size 640x480 with 1 Axes>"
            ]
          },
          "metadata": {},
          "output_type": "display_data"
        }
      ],
      "source": [
        "import matplotlib.pyplot as plt\n",
        "import numpy as np\n",
        "\n",
        "def plot_function(func, x_range):\n",
        "    x = np.linspace(x_range[0], x_range[1], 100)\n",
        "    y = func(x)\n",
        "\n",
        "    plt.plot(x, y)\n",
        "    plt.xlabel(\"x\")\n",
        "    plt.ylabel(\"y\")\n",
        "    plt.title(\"Plot of f(x)\")\n",
        "    plt.grid(True)\n",
        "    plt.show()\n",
        "def my_function(x):\n",
        "    return x**2\n",
        "plot_function(my_function, (-5, 5))"
      ]
    },
    {
      "cell_type": "markdown",
      "metadata": {
        "id": "DDsJqLe5AXx8"
      },
      "source": [
        "52.\tCreate a program that plots a scatter plot for random data points."
      ]
    },
    {
      "cell_type": "code",
      "execution_count": null,
      "metadata": {
        "id": "8GnA9_8ZAa7f"
      },
      "outputs": [],
      "source": [
        "import matplotlib.pyplot as plt\n",
        "import numpy as np\n",
        "\n",
        "def plot_random_scatter():\n",
        "    num_points = 50\n",
        "    x = np.random.rand(num_points)\n",
        "    y = np.random.rand(num_points)\n",
        "\n",
        "    plt.scatter(x, y, color='blue', marker='o', label='Random Data')\n",
        "\n",
        "    plt.xlabel(\"X-axis\")\n",
        "    plt.ylabel(\"Y-axis\")\n",
        "    plt.title(\"Scatter Plot of Random Data\")\n",
        "    plt.legend()\n",
        "    plt.grid(True)"
      ]
    },
    {
      "cell_type": "markdown",
      "metadata": {
        "id": "fU6tV2ZOAYLU"
      },
      "source": [
        "53.\tImplement a bar chart visualizing sales data over a month."
      ]
    },
    {
      "cell_type": "code",
      "execution_count": null,
      "metadata": {
        "colab": {
          "base_uri": "https://localhost:8080/",
          "height": 472
        },
        "id": "qCBPVObeAYWv",
        "outputId": "85ac9492-337d-4c31-aeba-88d287978780"
      },
      "outputs": [
        {
          "data": {
            "image/png": "[encoded data removed]",
            "text/plain": [
              "<Figure size 640x480 with 1 Axes>"
            ]
          },
          "metadata": {},
          "output_type": "display_data"
        }
      ],
      "source": [
        "import matplotlib.pyplot as plt\n",
        "import numpy as np\n",
        "def plot_monthly_sales(sales_data):\n",
        "    days = list(sales_data.keys())\n",
        "    sales = list(sales_data.values())\n",
        "    plt.bar(days, sales, color='skyblue')\n",
        "    plt.xlabel(\"Day of the Month\")\n",
        "    plt.ylabel(\"Sales Amount\")\n",
        "    plt.title(\"Monthly Sales Data\")\n",
        "    plt.xticks(days)\n",
        "    plt.grid(axis='y')\n",
        "\n",
        "    plt.show()\n",
        "\n",
        "sales_data = {\n",
        "    1: 1500, 2: 1800, 3: 1650, 4: 2000, 5: 1900,\n",
        "    6: 2200, 7: 2100, 8: 1700, 9: 1950, 10: 2150,\n",
        "\n",
        "}\n",
        "plot_monthly_sales(sales_data)"
      ]
    },
    {
      "cell_type": "markdown",
      "metadata": {
        "id": "6MrJgSPiBuPL"
      },
      "source": [
        "54.\tWrite a program that demonstrates plotting the Fibonacci sequence with PyLab."
      ]
    },
    {
      "cell_type": "code",
      "execution_count": null,
      "metadata": {
        "id": "juYphOkSBugi"
      },
      "outputs": [],
      "source": [
        "import matplotlib.pyplot as plt\n",
        "\n",
        "def plot_fibonacci(n):\n",
        "    fib_sequence = [0, 1]\n",
        "    for i in range(2, n):\n",
        "        next_fib = fib_sequence[i - 1] + fib_sequence[i - 2]\n",
        "        fib_sequence.append(next_fib)\n",
        "\n",
        "    plt.plot(fib_sequence, marker='o', linestyle='-', color='b')\n",
        "    plt.xlabel(\"Index\")\n",
        "    plt.ylabel(\"Fibonacci Number\")\n",
        "    plt.title(\"Fibonacci Sequence\")\n",
        "    plt.grid(True)\n",
        "    plt.show()\n",
        "\n",
        "plot_fibonacci(10)"
      ]
    },
    {
      "cell_type": "markdown",
      "metadata": {
        "id": "-qHFpQC0Bu4M"
      },
      "source": [
        "55.\tCreate a function that plots the trajectory of a projectile motion."
      ]
    },
    {
      "cell_type": "code",
      "execution_count": null,
      "metadata": {
        "id": "N2KaSHBeBvG0"
      },
      "outputs": [],
      "source": [
        "import matplotlib.pyplot as plt\n",
        "import numpy as np\n",
        "\n",
        "def plot_projectile_motion(initial_velocity, launch_angle, gravity=9.8):\n",
        "    launch_angle_rad = np.deg2rad(launch_angle)\n",
        "\n",
        "    time_of_flight = (2 * initial_velocity * np.sin(launch_angle_rad)) / gravity\n",
        "\n",
        "    t = np.linspace(0, time_of_flight, num=100)\n"
      ]
    },
    {
      "cell_type": "markdown",
      "metadata": {
        "id": "BnFhXBQ_Cp8f"
      },
      "source": [
        "56.\tImplement the 0/1 knapsack algorithm to solve a simple problem"
      ]
    },
    {
      "cell_type": "code",
      "execution_count": null,
      "metadata": {
        "id": "YOQWuPQpC1QR"
      },
      "outputs": [],
      "source": [
        "def knapsack_01(weights, values, capacity):\n",
        "    n = len(weights)\n",
        "    dp = [[0 for _ in range(capacity + 1)] for _ in range(n + 1)]\n",
        "\n",
        "    for i in range(1, n + 1):\n",
        "        for w in range(1, capacity + 1):\n",
        "            if weights[i - 1] <= w:\n",
        "                dp[i][w] = max(values[i - 1] + dp[i - 1][w - weights[i - 1]], dp[i - 1][w])\n",
        "            else:\n",
        "                dp[i][w] = dp[i - 1][w]\n",
        "\n",
        "    selected_items = []\n",
        "    i = n\n",
        "    w = capacity\n",
        "    while i > 0 and w > 0:\n",
        "        if dp[i][w] != dp[i - 1][w]:\n",
        "            selected_items.append(i - 1)\n",
        "            w -= weights[i - 1]\n",
        "        i -= 1\n",
        "\n",
        "    return dp[n][capacity], selected_items\n",
        "\n",
        "weights = [10, 20, 30]\n",
        "values = [60, 100, 120]\n",
        "capacity = 50\n",
        "\n",
        "max_value, selected_items = knapsack_01(weights, values, capacity)\n",
        "\n",
        "print(f\"Maximum value: {max_value}\")\n",
        "print(f\"Selected items (indices): {selected_items}\")"
      ]
    },
    {
      "cell_type": "markdown",
      "metadata": {
        "id": "PBLPTkvNDCxY"
      },
      "source": [
        "57.\tWrite a dynamic programming solution for finding the longest common subsequence."
      ]
    },
    {
      "cell_type": "code",
      "execution_count": null,
      "metadata": {
        "id": "5pGmGNpYDGY2"
      },
      "outputs": [],
      "source": [
        "def longest_common_subsequence(str1, str2):\n",
        "    n = len(str1)\n",
        "    m = len(str2)\n",
        "    dp = [[0 for _ in range(m + 1)] for _ in range(n + 1)]\n",
        "\n",
        "    for i in range(1, n + 1):\n",
        "        for j in range(1, m + 1):\n",
        "            if str1[i - 1] == str2[j - 1]:\n",
        "                dp[i][j] = dp[i - 1][j - 1] + 1\n",
        "            else:\n",
        "                dp[i][j] = max(dp[i - 1][j], dp[i][j - 1])\n",
        "\n",
        "    lcs = \"\"\n",
        "    i = n\n",
        "    j = m\n",
        "    while i > 0 and j > 0:\n",
        "        if str1[i - 1] == str2[j - 1]:\n",
        "            lcs = str1[i - 1] + lcs\n",
        "            i -= 1\n",
        "            j -= 1\n",
        "        else:\n",
        "            if dp[i - 1][j] > dp[i][j - 1]:\n",
        "                i -= 1\n",
        "            else:\n",
        "                j -= 1\n",
        "\n",
        "    return lcs\n",
        "string1 = \"AGGTAB\"\n",
        "string2 = \"GXTXAYB\"\n",
        "\n",
        "lcs = longest_common_subsequence(string1, string2)\n",
        "print(f\"Longest common subsequence: {lcs}\")"
      ]
    },
    {
      "cell_type": "markdown",
      "metadata": {
        "id": "9018TYfoDjsE"
      },
      "source": [
        "58.\tCreate a program to visualize dynamic programming approaches for the Fibonacci sequence."
      ]
    },
    {
      "cell_type": "code",
      "execution_count": null,
      "metadata": {
        "colab": {
          "base_uri": "https://localhost:8080/",
          "height": 472
        },
        "id": "OTYsKkZjD3-a",
        "outputId": "583f56aa-ae1d-46d5-a91b-fcbbc900f7f3"
      },
      "outputs": [
        {
          "data": {
            "image/png": "[encoded data removed]",
            "text/plain": [
              "<Figure size 640x480 with 1 Axes>"
            ]
          },
          "metadata": {},
          "output_type": "display_data"
        }
      ],
      "source": [
        "import matplotlib.pyplot as plt\n",
        "import time\n",
        "\n",
        "def fibonacci_recursive(n):\n",
        "    if n <= 1:\n",
        "        return n\n",
        "    return fibonacci_recursive(n - 1) + fibonacci_recursive(n - 2)\n",
        "\n",
        "def fibonacci_dynamic(n, memo={}):\n",
        "    if n in memo:\n",
        "        return memo[n]\n",
        "    if n <= 1:\n",
        "        return n\n",
        "    memo[n] = fibonacci_dynamic(n - 1, memo) + fibonacci_dynamic(n - 2, memo)\n",
        "    return memo[n]\n",
        "\n",
        "def visualize_fibonacci(n):\n",
        "    recursive_times = []\n",
        "    dynamic_times = []\n",
        "\n",
        "    for i in range(1, n + 1):\n",
        "        start_time = time.time()\n",
        "        fibonacci_recursive(i)\n",
        "        recursive_times.append(time.time() - start_time)\n",
        "\n",
        "        start_time = time.time()\n",
        "        fibonacci_dynamic(i)\n",
        "        dynamic_times.append(time.time() - start_time)\n",
        "\n",
        "    plt.plot(range(1, n + 1), recursive_times, label=\"Recursive\")\n",
        "    plt.plot(range(1, n + 1), dynamic_times, label=\"Dynamic Programming\")\n",
        "    plt.xlabel(\"n (Fibonacci Number)\")\n",
        "    plt.ylabel(\"Time (seconds)\")\n",
        "    plt.title(\"Fibonacci Calculation Time Comparison\")\n",
        "    plt.legend()\n",
        "    plt.grid(True)\n",
        "    plt.show()\n",
        "\n",
        "visualize_fibonacci(30)"
      ]
    },
    {
      "cell_type": "markdown",
      "metadata": {
        "id": "Ml-CB8fTEWPh"
      },
      "source": [
        "59.\tDevelop a divide-and-conquer algorithm to sort an array."
      ]
    },
    {
      "cell_type": "code",
      "execution_count": null,
      "metadata": {
        "colab": {
          "base_uri": "https://localhost:8080/"
        },
        "id": "TGB0OAg3D-iw",
        "outputId": "934be08c-b281-4a90-c426-8fbfe1d6a23d"
      },
      "outputs": [
        {
          "name": "stdout",
          "output_type": "stream",
          "text": [
            "Sorted array: [3, 9, 10, 27, 38, 43, 82]\n"
          ]
        }
      ],
      "source": [
        "def merge_sort(arr):\n",
        "    if len(arr) > 1:\n",
        "        mid = len(arr) // 2\n",
        "        left_half = arr[:mid]\n",
        "        right_half = arr[mid:]\n",
        "\n",
        "        merge_sort(left_half)\n",
        "        merge_sort(right_half)\n",
        "        i = j = k = 0\n",
        "        while i < len(left_half) and j < len(right_half):\n",
        "            if left_half[i] < right_half[j]:\n",
        "                arr[k] = left_half[i]\n",
        "                i += 1\n",
        "            else:\n",
        "                arr[k] = right_half[j]\n",
        "                j += 1\n",
        "            k += 1\n",
        "        while i < len(left_half):\n",
        "            arr[k] = left_half[i]\n",
        "            i += 1\n",
        "            k += 1\n",
        "\n",
        "        while j < len(right_half):\n",
        "            arr[k] = right_half[j]\n",
        "            j += 1\n",
        "            k += 1\n",
        "\n",
        "    return arr\n",
        "numbers = [38, 27, 43, 3, 9, 82, 10]\n",
        "sorted_numbers = merge_sort(numbers)\n",
        "print(\"Sorted array:\", sorted_numbers)"
      ]
    },
    {
      "cell_type": "markdown",
      "metadata": {
        "id": "ShFRz3V0E9nD"
      },
      "source": [
        "60.\tWrite a Python function that uses memoization to optimize a recursive problem."
      ]
    },
    {
      "cell_type": "code",
      "execution_count": null,
      "metadata": {
        "id": "Tr-kHaXHEu_B"
      },
      "outputs": [],
      "source": [
        "def fibonacci_memo(n, memo={}):\n",
        "\n",
        "    if n in memo:\n",
        "        return memo[n]  # Return cached value if available\n",
        "    if n <= 1:\n",
        "        return n  # Base cases: 0 and 1\n",
        "\n",
        "    # Calculate and store the Fibonacci number in the memo\n",
        "    memo[n] = fibonacci_memo(n - 1, memo) + fibonacci_memo(n - 2, memo)\n",
        "    return memo[n]"
      ]
    },
    {
      "cell_type": "markdown",
      "metadata": {
        "id": "1C2Cz_FqfYGH"
      },
      "source": [
        "61.\tCreate an application that manages a library system with classes for Book and Library."
      ]
    },
    {
      "cell_type": "code",
      "execution_count": null,
      "metadata": {
        "colab": {
          "base_uri": "https://localhost:8080/"
        },
        "id": "G7oyobfbfZEG",
        "outputId": "1f2e36ee-f03a-4b7c-d31f-b6338b65c344"
      },
      "outputs": [
        {
          "name": "stdout",
          "output_type": "stream",
          "text": [
            "Title: The Hitchhiker's Guide to the Galaxy, Author: Douglas Adams, ISBN: 9780345391803, Borrowed: False\n",
            "Book borrowed successfully.\n",
            "Book returned successfully.\n"
          ]
        }
      ],
      "source": [
        "class Book:\n",
        "    def __init__(self, title, author, isbn):\n",
        "        self.title = title\n",
        "        self.author = author\n",
        "        self.isbn = isbn\n",
        "        self.is_borrowed = False\n",
        "\n",
        "    def __str__(self):\n",
        "        return f\"Title: {self.title}, Author: {self.author}, ISBN: {self.isbn}, Borrowed: {self.is_borrowed}\"\n",
        "\n",
        "    def borrow(self):\n",
        "        self.is_borrowed = True\n",
        "\n",
        "    def return_book(self):\n",
        "        self.is_borrowed = False\n",
        "\n",
        "\n",
        "class Library:\n",
        "    def __init__(self):\n",
        "        self.books = []\n",
        "\n",
        "    def add_book(self, book):\n",
        "        self.books.append(book)\n",
        "\n",
        "    def remove_book(self, book):\n",
        "        self.books.remove(book)\n",
        "\n",
        "    def search_book(self, query):\n",
        "        results = []\n",
        "        for book in self.books:\n",
        "            if query.lower() in book.title.lower() or query.lower() in book.author.lower():\n",
        "                results.append(book)\n",
        "        return results\n",
        "\n",
        "    def borrow_book(self, isbn):\n",
        "        for book in self.books:\n",
        "            if book.isbn == isbn and not book.is_borrowed:\n",
        "                book.borrow()\n",
        "                return True  # Book borrowed successfully\n",
        "        return False  # Book not found or already borrowed\n",
        "\n",
        "    def return_book(self, isbn):\n",
        "        for book in self.books:\n",
        "            if book.isbn == isbn and book.is_borrowed:\n",
        "                book.return_book()\n",
        "                return True  # Book returned successfully\n",
        "        return False  # Book not found or not borrowed\n",
        "\n",
        "library = Library()\n",
        "book1 = Book(\"The Lord of the Rings\", \"J.R.R. Tolkien\", \"9780547928227\")\n",
        "book2 = Book(\"The Hitchhiker's Guide to the Galaxy\", \"Douglas Adams\", \"9780345391803\")\n",
        "library.add_book(book1)\n",
        "library.add_book(book2)\n",
        "\n",
        "results = library.search_book(\"Hitchhiker\")\n",
        "for book in results:\n",
        "    print(book)\n",
        "if library.borrow_book(\"9780547928227\"):\n",
        "    print(\"Book borrowed successfully.\")\n",
        "else:\n",
        "    print(\"Book not found or already borrowed.\")\n",
        "\n",
        "if library.return_book(\"9780547928227\"):\n",
        "    print(\"Book returned successfully.\")\n",
        "else:\n",
        "    print(\"Book not found or not borrowed.\")"
      ]
    },
    {
      "cell_type": "markdown",
      "metadata": {
        "id": "NasN2t3PfZT8"
      },
      "source": [
        "62. Implement a simple game (e.g., Guess the Number) using branching and loops."
      ]
    },
    {
      "cell_type": "code",
      "execution_count": null,
      "metadata": {
        "colab": {
          "background_save": true,
          "base_uri": "https://localhost:8080/"
        },
        "id": "UM_EtNNUfmXZ",
        "outputId": "62eeb8a4-467a-4055-8b0e-e0d559cd822a"
      },
      "outputs": [
        {
          "name": "stdout",
          "output_type": "stream",
          "text": [
            "Welcome to Guess the Number!\n",
            "I'm thinking of a number between 1 and 100.\n",
            "You have 7 guesses left.\n"
          ]
        }
      ],
      "source": [
        "import random\n",
        "\n",
        "def guess_the_number():\n",
        "    secret_number = random.randint(1, 100)\n",
        "    guesses_left = 7\n",
        "\n",
        "    print(\"Welcome to Guess the Number!\")\n",
        "    print(\"I'm thinking of a number between 1 and 100.\")\n",
        "\n",
        "    while guesses_left > 0:\n",
        "        print(f\"You have {guesses_left} guesses left.\")\n",
        "        try:\n",
        "            guess = int(input(\"Take a guess: \"))\n",
        "        except ValueError:\n",
        "            print(\"Invalid input. Please enter a number.\")\n",
        "            continue\n",
        "\n",
        "        if guess < secret_number:\n",
        "            print(\"Too low!\")\n",
        "        elif guess > secret_number:\n",
        "            print(\"Too high!\")\n",
        "        else:\n",
        "            print(f\"Congratulations! You guessed the number in {7 - guesses_left} tries.\")\n",
        "            return\n",
        "\n",
        "        guesses_left -= 1\n",
        "\n",
        "    print(f\"Sorry, you ran out of guesses. The number was {secret_number}.\")\n",
        "\n",
        "if __name__ == \"__main__\":\n",
        "    guess_the_number()"
      ]
    },
    {
      "cell_type": "markdown",
      "metadata": {
        "id": "OHpv-gSDfk5l"
      },
      "source": [
        "63.\tWrite a Python program that scrapes data from a website and processes it."
      ]
    },
    {
      "cell_type": "code",
      "execution_count": null,
      "metadata": {
        "colab": {
          "base_uri": "https://localhost:8080/"
        },
        "id": "J_JfTOgxflX3",
        "outputId": "caff5b20-6d84-4f4e-86b0-b446016e55aa"
      },
      "outputs": [
        {
          "name": "stdout",
          "output_type": "stream",
          "text": [
            "No data extracted.\n"
          ]
        }
      ],
      "source": [
        "import requests\n",
        "from bs4 import BeautifulSoup\n",
        "def scrape_website(url):\n",
        "  try:\n",
        "    response = requests.get(url)\n",
        "    response.raise_for_status()\n",
        "\n",
        "    soup = BeautifulSoup(response.content, \"html.parser\")\n",
        "    extracted_data = [h2.text for h2 in soup.find_all(\"h2\")]\n",
        "\n",
        "    return extracted_data\n",
        "  except requests.exceptions.RequestException as e:\n",
        "    print(f\"Error during request: {e}\")\n",
        "    return []\n",
        "  except Exception as e:\n",
        "    print(f\"An error occurred: {e}\")\n",
        "    return []\n",
        "\n",
        "if __name__ == \"__main__\":\n",
        "  target_url = \"https://www.example.com\"\n",
        "  scraped_data = scrape_website(target_url)\n",
        "\n",
        "  if scraped_data:\n",
        "    print(\"Extracted data:\")\n",
        "    for item in scraped_data:\n",
        "      print(item)\n",
        "  else:\n",
        "    print(\"No data extracted.\")"
      ]
    },
    {
      "cell_type": "markdown",
      "metadata": {
        "id": "2Cf84TOpJFIh"
      },
      "source": [
        "64.\tDevelop a weather application that retrieves data from an API and displays it using plots."
      ]
    },
    {
      "cell_type": "code",
      "execution_count": null,
      "metadata": {
        "id": "H4sv11z6D723"
      },
      "outputs": [],
      "source": [
        "import requests\n",
        "import matplotlib.pyplot as plt\n",
        "\n",
        "def get_weather_data(api_key, city):\n",
        "    url = f\"http://api.openweathermap.org/data/2.5/weather?q={city}&appid={api_key}&units=metric\"\n",
        "    try:\n",
        "        response = requests.get(url)\n",
        "        response.raise_for_status()\n",
        "        data = response.json()\n",
        "        return data\n",
        "    except requests.exceptions.RequestException as e:\n",
        "        print(f\"Error fetching weather data: {e}\")\n",
        "        return None\n",
        "\n",
        "def plot_weather_data(weather_data):\n",
        "\n",
        "    temperature = weather_data[\"main\"][\"temp\"]\n",
        "    humidity = weather_data[\"main\"][\"humidity\"]\n",
        "    wind_speed = weather_data[\"wind\"][\"speed\"]\n",
        "\n",
        "    plt.figure(figsize=(8, 6))\n",
        "    plt.bar([\"Temperature\"], [temperature], color=\"orange\")\n",
        "    plt.ylabel(\"Temperature (°C)\")\n",
        "    plt.title(f\"Weather in {weather_data['name']}\")\n",
        "    plt.show()\n",
        "\n",
        "    plt.figure(figsize=(8, 6))\n",
        "    plt.scatter([humidity], [wind_speed], color=\"blue\", marker=\"o\")\n",
        "    plt.xlabel(\"Humidity (%)\")\n",
        "    plt.ylabel(\"Wind Speed (m/s)\")\n",
        "    plt.title(f\"Weather in {weather_data['name']}\")\n",
        "    plt.show()\n",
        "\n",
        "if __name__ == \"__main__\":\n",
        "    api_key = \"YOUR_API_KEY\"\n",
        "    city = \"London\"\n",
        "\n",
        "    weather_data = get_weather_data(api_key, city)\n",
        "\n",
        "    if"
      ]
    },
    {
      "cell_type": "markdown",
      "metadata": {
        "id": "fG3kTBh0JWHM"
      },
      "source": [
        "65.\tCreate a ToDo application using classes and file handling to save tasks."
      ]
    },
    {
      "cell_type": "code",
      "execution_count": null,
      "metadata": {
        "id": "pIvAA_GuJWbL"
      },
      "outputs": [],
      "source": [
        "import json\n",
        "\n",
        "class ToDoList:\n",
        "    def __init__(self, filename=\"todo.json\"):\n",
        "        self.filename = filename\n",
        "        self.tasks = self.load_tasks()\n",
        "\n",
        "    def load_tasks(self):\n",
        "        try:\n",
        "            with open(self.filename, \"r\") as f:\n",
        "                return json.load(f)\n",
        "        except FileNotFoundError:\n",
        "            return []\n",
        "\n",
        "    def save_tasks(self):\n",
        "        with open(self.filename, \"w\") as f:\n",
        "            json.dump(self.tasks, f)\n",
        "\n",
        "    def add_task(self, task):\n",
        "        self.tasks.append(task)\n",
        "        self.save_tasks()\n",
        "\n",
        "    def remove_task(self, task):\n",
        "        if task in self.tasks:\n",
        "            self.tasks.remove(task)\n",
        "            self.save_tasks()\n",
        "            return True\n",
        "        return False\n",
        "\n"
      ]
    },
    {
      "cell_type": "markdown",
      "metadata": {
        "id": "2sUhNapNJhV9"
      },
      "source": [
        "66.\tWrite a function that converts a number to its binary string representation."
      ]
    },
    {
      "cell_type": "code",
      "execution_count": null,
      "metadata": {
        "id": "2N0vipLMJmg1"
      },
      "outputs": [],
      "source": [
        "def decimal_to_binary(decimal_num):\n",
        "    if decimal_num == 0:\n",
        "        return \"0\"\n",
        "\n",
        "    binary_string = \"\"\n",
        "    while decimal_num > 0:\n",
        "        remainder = decimal_num % 2\n",
        "        binary_string = str(remainder) + binary_string\n",
        "        decimal_num //= 2\n",
        "\n",
        "    return binary_string\n",
        "\n",
        "number = 42\n",
        "binary_representation = decimal_to_binary(number)\n",
        "print(f\"The binary representation of {number} is: {binary_representation}\")"
      ]
    },
    {
      "cell_type": "markdown",
      "metadata": {
        "id": "iLD7KGERJ22j"
      },
      "source": [
        "67.\tCreate a program to generate random passwords with specified complexity."
      ]
    },
    {
      "cell_type": "code",
      "execution_count": null,
      "metadata": {
        "id": "Yqd0UTrrKC_X"
      },
      "outputs": [],
      "source": [
        "import random\n",
        "import string\n",
        "\n",
        "def generate_password(length=12, include_uppercase=True, include_numbers=True, include_symbols=True):\n",
        "\n",
        "    characters = string.ascii_lowercase\n",
        "\n",
        "    if include_uppercase:\n",
        "        characters += string.ascii_uppercase\n",
        "    if include_numbers:\n",
        "        characters += string.digits\n",
        "    if include_symbols:\n",
        "        characters += string.punctuation\n",
        "\n",
        "    password = ''.join(random.choice(characters) for _ in range(length))\n",
        "    return password\n",
        "\n",
        "password = generate_password(length=16, include_symbols=False)\n",
        "print(f\"Generated password: {password}\")"
      ]
    },
    {
      "cell_type": "markdown",
      "metadata": {
        "id": "DNebgAhWKFVr"
      },
      "source": [
        "68.\tImplement a text-based version of tic-tac-toe."
      ]
    },
    {
      "cell_type": "code",
      "execution_count": null,
      "metadata": {
        "id": "cmXk5zEAKGC7"
      },
      "outputs": [],
      "source": [
        "def print_board(board):\n",
        "    print(\"-------------\")\n",
        "    for row in board:\n",
        "        print(\"|\", end=\"\")\n",
        "        for cell in row:\n",
        "            print(f\" {cell} |\", end=\"\")\n",
        "        print(\"\\n-------------\")\n",
        "\n",
        "def check_win(board, player):\n",
        "    for row in board:\n",
        "        if all(cell == player for cell in row):\n",
        "            return True\n",
        "    for col in range(3):\n",
        "        if all(board[row][col] == player for row in range(3)):\n",
        "            return True\n",
        "\n",
        "    if all(board[i][i] == player for i in range(3)):\n",
        "        return True\n",
        "    if all(board[i][2 - i] == player for i in range(3)):\n",
        "        return True\n",
        "\n",
        "    return False\n",
        "\n",
        "def is_board_full(board):\n",
        "    for row in board:\n",
        "        for cell in row:\n",
        "            if cell == ' ':\n",
        "                return False\n",
        "    return True\n",
        "\n",
        "def play_tic_tac_toe():\n",
        "    board = [[' ' for _ in range(3)] for _ in range(3)]\n",
        "    current_player = 'X'\n",
        "\n",
        "    while True:\n",
        "        print_board(board)\n",
        "        print(f\"Player {current_player}'s turn.\")\n",
        "\n",
        "        try:\n",
        "            row = int(input(\"Enter row (1-3): \")) - 1\n",
        "            col = int(input(\"Enter column (1-3): \")) - 1\n",
        "\n",
        "            if 0 <= row < 3 and 0 <= col < 3 and board[row][col] == ' ':\n",
        "                board[row][col] = current_player\n",
        "\n",
        "                if check_win(board, current_player):\n",
        "                    print_board"
      ]
    }
  ],
  "metadata": {
    "colab": {
      "provenance": [],
      "authorship_tag": "ABX9TyP3XdVSYBgWoXhxaFYGWcE0",
      "include_colab_link": true
    },
    "kernelspec": {
      "display_name": "Python 3",
      "name": "python3"
    },
    "language_info": {
      "name": "python"
    }
  },
  "nbformat": 4,
  "nbformat_minor": 0
}